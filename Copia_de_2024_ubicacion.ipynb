{
  "nbformat": 4,
  "nbformat_minor": 0,
  "metadata": {
    "colab": {
      "provenance": [],
      "authorship_tag": "ABX9TyMvpnr0odkpmI+09hcitodE",
      "include_colab_link": true
    },
    "kernelspec": {
      "name": "python3",
      "display_name": "Python 3"
    },
    "language_info": {
      "name": "python"
    }
  },
  "cells": [
    {
      "cell_type": "markdown",
      "metadata": {
        "id": "view-in-github",
        "colab_type": "text"
      },
      "source": [
        "<a href=\"https://colab.research.google.com/github/juancuevas-ops/inteligencia-artificial/blob/main/Copia_de_2024_ubicacion.ipynb\" target=\"_parent\"><img src=\"https://colab.research.google.com/assets/colab-badge.svg\" alt=\"Open In Colab\"/></a>"
      ]
    },
    {
      "cell_type": "code",
      "source": [
        "!pip install qrcode\n",
        "import qrcode"
      ],
      "metadata": {
        "colab": {
          "base_uri": "https://localhost:8080/"
        },
        "id": "WWeDHbKk-H99",
        "outputId": "48401b27-39ac-417b-8ae6-ff915cd7c28d"
      },
      "execution_count": 8,
      "outputs": [
        {
          "output_type": "stream",
          "name": "stdout",
          "text": [
            "Requirement already satisfied: qrcode in /usr/local/lib/python3.10/dist-packages (8.0)\n"
          ]
        }
      ]
    },
    {
      "source": [
        "def create_geo_qr(latitude, longitude, filename=\"geo_qr.png\"):\n",
        "  \"\"\"\n",
        "  Crea un código QR que apunta a una ubicación en Google Maps.\n",
        "\n",
        "  Args:\n",
        "    latitude: La latitud de la ubicación.\n",
        "    longitude: La longitud de la ubicación.\n",
        "    filename: El nombre del archivo donde se guardará el código QR.\n",
        "  \"\"\"\n",
        "\n",
        "  # Construimos la URL de Google Maps\n",
        "  google_maps_url = f\"Mi monbre es hackito y mi dueña es fanny fono:954913245\"+\"https://www.google.com/maps/search/?api=1&query={latitude},{longitude}\"\n",
        "\n",
        "  # Creamos el objeto QR\n",
        "  qr = qrcode.QRCode(\n",
        "      version=1,\n",
        "      error_correction=qrcode.constants.ERROR_CORRECT_L,\n",
        "      box_size=10,\n",
        "      border=4,\n",
        "  )\n",
        "  qr.add_data(google_maps_url)\n",
        "  qr.make(fit=True)\n",
        "\n",
        "  # Creamos la imagen\n",
        "  img = qr.make_image(fill_color=\"black\", back_color=\"white\")\n",
        "\n",
        "  # Fix: Ensure filename is a string\n",
        "  img.save(str(filename))\n",
        "\n",
        "# Ejemplo de uso\n",
        "# Fix: Pass a string filename or keep the default\n",
        "create_geo_qr(-33.542316546507394, -70.66692879951485, filename=\"geo_qr_custom.png\")  # Coordenadas 40.7128, -74.0060"
      ],
      "cell_type": "code",
      "metadata": {
        "id": "8KBBelxP8F8W"
      },
      "execution_count": 9,
      "outputs": []
    }
  ]
}