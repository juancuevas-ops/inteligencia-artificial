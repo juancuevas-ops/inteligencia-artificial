{
  "nbformat": 4,
  "nbformat_minor": 0,
  "metadata": {
    "colab": {
      "name": "Tensor_array.ipynb",
      "provenance": [],
      "collapsed_sections": [],
      "authorship_tag": "ABX9TyOgGXV1Ow8YJpmBOCjCVyEX",
      "include_colab_link": true
    },
    "kernelspec": {
      "name": "python3",
      "display_name": "Python 3"
    },
    "language_info": {
      "name": "python"
    }
  },
  "cells": [
    {
      "cell_type": "markdown",
      "metadata": {
        "id": "view-in-github",
        "colab_type": "text"
      },
      "source": [
        "<a href=\"https://colab.research.google.com/github/juancuevas-ops/inteligencia-artificial/blob/main/Tensor_array.ipynb\" target=\"_parent\"><img src=\"https://colab.research.google.com/assets/colab-badge.svg\" alt=\"Open In Colab\"/></a>"
      ]
    },
    {
      "cell_type": "code",
      "execution_count": 1,
      "metadata": {
        "id": "AM4XlGH4n9wI"
      },
      "outputs": [],
      "source": [
        "%matplotlib inline\n",
        "import torch\n",
        "import numpy as np"
      ]
    },
    {
      "cell_type": "markdown",
      "source": [
        "# Inicializar un tensor\n",
        "Los tensores se pueden inicializar de varias formas. Echa un vistazo a los siguientes ejemplos:\n",
        "\n",
        "Directamente desde los datos\n",
        "Los tensores se pueden crear directamente a partir de datos. El tipo de datos se infiere automáticamente."
      ],
      "metadata": {
        "id": "G6yPq8M_oR2I"
      }
    },
    {
      "cell_type": "code",
      "source": [
        "data = [[1, 2],[3, 4]]\n",
        "x_data = torch.tensor(data)"
      ],
      "metadata": {
        "id": "XnjetGSVoUYv"
      },
      "execution_count": 2,
      "outputs": []
    },
    {
      "cell_type": "markdown",
      "source": [
        "tranformacion automatica de datos a un tensor"
      ],
      "metadata": {
        "id": "H76Nmj_Tzhij"
      }
    },
    {
      "cell_type": "code",
      "source": [
        "data"
      ],
      "metadata": {
        "colab": {
          "base_uri": "https://localhost:8080/"
        },
        "id": "KdBUK1rczcCs",
        "outputId": "b20ddf50-8ab8-4b01-8851-997aa3718362"
      },
      "execution_count": 20,
      "outputs": [
        {
          "output_type": "execute_result",
          "data": {
            "text/plain": [
              "[[1, 2], [3, 4]]"
            ]
          },
          "metadata": {},
          "execution_count": 20
        }
      ]
    },
    {
      "cell_type": "code",
      "source": [
        "x_data"
      ],
      "metadata": {
        "colab": {
          "base_uri": "https://localhost:8080/"
        },
        "id": "X9P0TGiJoekK",
        "outputId": "6e2017ff-670b-4ee2-c225-85b187cfa04c"
      },
      "execution_count": 19,
      "outputs": [
        {
          "output_type": "execute_result",
          "data": {
            "text/plain": [
              "tensor([[1, 2],\n",
              "        [3, 4]])"
            ]
          },
          "metadata": {},
          "execution_count": 19
        }
      ]
    },
    {
      "cell_type": "markdown",
      "source": [
        "Desde una matriz NumPy\n",
        "Los tensores se pueden crear a partir de matrices NumPy y viceversa. Dado que numpy 'np_array' y tensor 'x_np' comparten la misma ubicación de memoria aquí, cambiar el valor de uno cambiará el otro"
      ],
      "metadata": {
        "id": "ip7IHjBzouGL"
      }
    },
    {
      "cell_type": "code",
      "source": [
        "np_array = np.array(data)\n",
        "x_np = torch.from_numpy(np_array)\n",
        "\n",
        "print(f\"valor del array de numpy: \\n {np_array} \\n\")\n",
        "print(f\"Valor del array de numpy: \\n {x_np} \\n\")\n",
        "\n",
        "np.multiply(np_array, 2, out=np_array)\n",
        "\n",
        "print(f\"Numpy np_array después de la operación * 2: \\n {np_array} \\n\")\n",
        "print(f\"Tensor x_np valor después de modificar la matriz numpy: \\n {x_np} \\n\")"
      ],
      "metadata": {
        "colab": {
          "base_uri": "https://localhost:8080/"
        },
        "id": "nSNhbJ5movib",
        "outputId": "d4b64abe-8332-4b8f-89b7-fee505f580b7"
      },
      "execution_count": 23,
      "outputs": [
        {
          "output_type": "stream",
          "name": "stdout",
          "text": [
            "valor del array de numpy: \n",
            " [[1 2]\n",
            " [3 4]] \n",
            "\n",
            "Valor del array de numpy: \n",
            " tensor([[1, 2],\n",
            "        [3, 4]]) \n",
            "\n",
            "Numpy np_array después de la operación * 2: \n",
            " [[2 4]\n",
            " [6 8]] \n",
            "\n",
            "Tensor x_np valor después de modificar la matriz numpy: \n",
            " tensor([[2, 4],\n",
            "        [6, 8]]) \n",
            "\n"
          ]
        }
      ]
    },
    {
      "cell_type": "markdown",
      "source": [
        "De otro tensor:\n",
        "El nuevo tensor conserva las propiedades (forma, tipo de datos) del tensor del argumento, a menos que se anule explícitamente."
      ],
      "metadata": {
        "id": "YLSWoX8IqAh6"
      }
    },
    {
      "cell_type": "code",
      "source": [
        "x_ones = torch.ones_like(x_data) # retains the properties of x_data\n",
        "print(f\"Tensor de unidades: \\n {x_ones} \\n\")\n",
        "\n",
        "x_rand = torch.rand_like(x_data, dtype=torch.float) # overrides the datatype of x_data\n",
        "print(f\"Tensor aleatorio: \\n {x_rand} \\n\")"
      ],
      "metadata": {
        "colab": {
          "base_uri": "https://localhost:8080/"
        },
        "id": "bwTQie4NqCNp",
        "outputId": "728f145c-a51f-4ee3-8b39-3e2221ef6b60"
      },
      "execution_count": 25,
      "outputs": [
        {
          "output_type": "stream",
          "name": "stdout",
          "text": [
            "Tensor de unidades: \n",
            " tensor([[1, 1],\n",
            "        [1, 1]]) \n",
            "\n",
            "Tensor aleatorio: \n",
            " tensor([[0.0883, 0.1705],\n",
            "        [0.0132, 0.8954]]) \n",
            "\n"
          ]
        }
      ]
    },
    {
      "cell_type": "markdown",
      "source": [
        "Con valores aleatorios o constantes:\n",
        "forma es una tupla de dimensiones tensoriales. En las funciones siguientes, determina la dimensionalidad del tensor de salida. La forma muestra el número de filas y columnas en el tensor. P.ej. forma = (# de filas, # de columnas)."
      ],
      "metadata": {
        "id": "U46nv0fpsLQr"
      }
    },
    {
      "cell_type": "code",
      "source": [
        "shape = (2,3,)\n",
        "rand_tensor = torch.rand(shape)\n",
        "ones_tensor = torch.ones(shape)\n",
        "zeros_tensor = torch.zeros(shape)\n",
        "\n",
        "print(f\"Tensor Aleatorio: \\n {rand_tensor} \\n\")\n",
        "print(f\"Tensor de unidades: \\n {ones_tensor} \\n\")\n",
        "print(f\"Tensor con ceros: \\n {zeros_tensor}\")"
      ],
      "metadata": {
        "colab": {
          "base_uri": "https://localhost:8080/"
        },
        "id": "yiPHSPsqsNxp",
        "outputId": "edf034ab-99d3-4661-930b-bcfc2a0056c8"
      },
      "execution_count": 26,
      "outputs": [
        {
          "output_type": "stream",
          "name": "stdout",
          "text": [
            "Tensor Aleatorio: \n",
            " tensor([[0.8124, 0.8601, 0.7806],\n",
            "        [0.2010, 0.9662, 0.0766]]) \n",
            "\n",
            "Tensor de unidades: \n",
            " tensor([[1., 1., 1.],\n",
            "        [1., 1., 1.]]) \n",
            "\n",
            "Tensor con ceros: \n",
            " tensor([[0., 0., 0.],\n",
            "        [0., 0., 0.]])\n"
          ]
        }
      ]
    },
    {
      "cell_type": "markdown",
      "source": [
        "\n",
        "Con valores aleatorios o constantes:\n",
        "forma es una tupla de dimensiones tensoriales. En las funciones siguientes, determina la dimensionalidad del tensor de salida. La forma muestra el número de filas y columnas en el tensor. P.ej. forma = (# de filas, # de columnas).\n"
      ],
      "metadata": {
        "id": "AOkvft_qsuEj"
      }
    },
    {
      "cell_type": "code",
      "source": [
        "tensor = torch.rand(3,4)\n",
        "\n",
        "print(f\"Shape of tensor: {tensor.shape}\")\n",
        "print(f\"Datatype of tensor: {tensor.dtype}\")\n",
        "print(f\"Device tensor is stored on: {tensor.device}\")"
      ],
      "metadata": {
        "colab": {
          "base_uri": "https://localhost:8080/"
        },
        "id": "zM1dKfqasyl_",
        "outputId": "beb24f45-26dc-46a0-94f3-0c415f6e82ca"
      },
      "execution_count": 27,
      "outputs": [
        {
          "output_type": "stream",
          "name": "stdout",
          "text": [
            "Shape of tensor: torch.Size([3, 4])\n",
            "Datatype of tensor: torch.float32\n",
            "Device tensor is stored on: cpu\n"
          ]
        }
      ]
    },
    {
      "cell_type": "markdown",
      "source": [
        "Con valores aleatorios o constantes:\n",
        "forma es una tupla de dimensiones tensoriales. En las funciones siguientes, determina la dimensionalidad del tensor de salida. La forma muestra el número de filas y columnas en el tensor. P.ej. forma = (# de filas, # de columnas)."
      ],
      "metadata": {
        "id": "UHuD8McetIUY"
      }
    },
    {
      "cell_type": "code",
      "source": [
        "# Movemos nuestro tensor a la GPU si está disponible\n",
        "if torch.cuda.is_available():\n",
        "  tensor = tensor.to('cuda')"
      ],
      "metadata": {
        "id": "4RwOKStAtCmw"
      },
      "execution_count": 28,
      "outputs": []
    },
    {
      "cell_type": "code",
      "source": [
        "tensor"
      ],
      "metadata": {
        "colab": {
          "base_uri": "https://localhost:8080/"
        },
        "id": "MQYTtkNg380Y",
        "outputId": "2530598a-d6ae-4900-c1e2-63a4f594d242"
      },
      "execution_count": 29,
      "outputs": [
        {
          "output_type": "execute_result",
          "data": {
            "text/plain": [
              "tensor([[0.2341, 0.8334, 0.4738, 0.3557],\n",
              "        [0.4970, 0.9189, 0.4060, 0.3508],\n",
              "        [0.3250, 0.5465, 0.4629, 0.2608]])"
            ]
          },
          "metadata": {},
          "execution_count": 29
        }
      ]
    },
    {
      "cell_type": "markdown",
      "source": [
        "Pruebe algunas de las operaciones de la lista. Si está familiarizado con la API de NumPy, encontrará que la API de Tensor es muy fácil de usar.\n",
        "\n",
        "Indexación y corte estándar de tipo numpy:"
      ],
      "metadata": {
        "id": "BDWIW6VBthfO"
      }
    },
    {
      "cell_type": "code",
      "source": [
        "tensor = torch.ones(4, 4)\n",
        "print('Primera Fila: ',tensor[0])\n",
        "print('Primera Columna: ', tensor[:, 0])\n",
        "print('última columna:', tensor[..., -1])\n",
        "tensor[:,1] = 0\n",
        "print(tensor)"
      ],
      "metadata": {
        "colab": {
          "base_uri": "https://localhost:8080/"
        },
        "id": "zL7uzfh_soYk",
        "outputId": "a5ee0037-0e8a-417e-a151-7f13b08982b5"
      },
      "execution_count": 30,
      "outputs": [
        {
          "output_type": "stream",
          "name": "stdout",
          "text": [
            "Primera Fila:  tensor([1., 1., 1., 1.])\n",
            "Primera Columna:  tensor([1., 1., 1., 1.])\n",
            "última columna: tensor([1., 1., 1., 1.])\n",
            "tensor([[1., 0., 1., 1.],\n",
            "        [1., 0., 1., 1.],\n",
            "        [1., 0., 1., 1.],\n",
            "        [1., 0., 1., 1.]])\n"
          ]
        }
      ]
    },
    {
      "cell_type": "markdown",
      "source": [
        "Unión de tensores\n",
        "Puedes usar torch.cat para concatenar una secuencia de tensores a lo largo de una dimensión determinada. torch.stack es otra opción de unión de tensores que es sutilmente diferente de torch.cat."
      ],
      "metadata": {
        "id": "z4V0TIn3txWA"
      }
    },
    {
      "cell_type": "code",
      "source": [
        "t1 = torch.cat([tensor, tensor, tensor], dim=1)\n",
        "print(t1)"
      ],
      "metadata": {
        "colab": {
          "base_uri": "https://localhost:8080/"
        },
        "id": "5dhIOGRxtpyD",
        "outputId": "1d890d02-5697-44b3-ff79-44f261f4421e"
      },
      "execution_count": 31,
      "outputs": [
        {
          "output_type": "stream",
          "name": "stdout",
          "text": [
            "tensor([[1., 0., 1., 1., 1., 0., 1., 1., 1., 0., 1., 1.],\n",
            "        [1., 0., 1., 1., 1., 0., 1., 1., 1., 0., 1., 1.],\n",
            "        [1., 0., 1., 1., 1., 0., 1., 1., 1., 0., 1., 1.],\n",
            "        [1., 0., 1., 1., 1., 0., 1., 1., 1., 0., 1., 1.]])\n"
          ]
        }
      ]
    },
    {
      "cell_type": "markdown",
      "source": [
        "# Operaciones aritmeticas"
      ],
      "metadata": {
        "id": "4t5anHybuSTT"
      }
    },
    {
      "cell_type": "code",
      "source": [
        "# Esto calcula la multiplicación de matrices entre dos tensores. y1, y2, y3 tendrán el mismo valor\n",
        "y1_1 = tensor @ tensor.T\n",
        "y2_2 = tensor.matmul(tensor.T)\n",
        "\n",
        "y3_3 = torch.rand_like(tensor)\n",
        "torch.matmul(tensor, tensor.T, out=y3_3)\n",
        "\n",
        "\n",
        "# Esto calcula el producto por elementos. z1, z2, z3 tendrán el mismo valor\n",
        "z1_z = tensor * tensor\n",
        "z2_z = tensor.mul(tensor)\n",
        "\n",
        "z3_z = torch.rand_like(tensor)\n",
        "torch.mul(tensor, tensor, out=z3_z)"
      ],
      "metadata": {
        "colab": {
          "base_uri": "https://localhost:8080/"
        },
        "id": "D5r3g2qZuUsX",
        "outputId": "12400987-0a47-46ca-a465-bd06e05bb236"
      },
      "execution_count": 39,
      "outputs": [
        {
          "output_type": "execute_result",
          "data": {
            "text/plain": [
              "tensor([[36., 25., 36., 36.],\n",
              "        [36., 25., 36., 36.],\n",
              "        [36., 25., 36., 36.],\n",
              "        [36., 25., 36., 36.]])"
            ]
          },
          "metadata": {},
          "execution_count": 39
        }
      ]
    },
    {
      "cell_type": "markdown",
      "source": [
        "Tensores de un solo elemento\n",
        "Si tiene un tensor de un elemento, por ejemplo agregando todos los valores de un tensor en un solo valor, puede convertirlo en un valor numérico de Python usando item():"
      ],
      "metadata": {
        "id": "mT72NKf0urV7"
      }
    },
    {
      "cell_type": "code",
      "source": [
        "agg = tensor.sum()\n",
        "agg_item = agg.item()  \n",
        "print(agg_item, type(agg_item))"
      ],
      "metadata": {
        "colab": {
          "base_uri": "https://localhost:8080/"
        },
        "id": "4rSnm38juwZ-",
        "outputId": "ac046b8c-26d8-46c4-f22d-e49d25672aec"
      },
      "execution_count": 13,
      "outputs": [
        {
          "output_type": "stream",
          "name": "stdout",
          "text": [
            "12.0 <class 'float'>\n"
          ]
        }
      ]
    },
    {
      "cell_type": "code",
      "source": [
        "type(agg)"
      ],
      "metadata": {
        "colab": {
          "base_uri": "https://localhost:8080/"
        },
        "id": "4UeUxlYz5M-b",
        "outputId": "475790e5-4ac9-4db3-e7a8-3205b9a30860"
      },
      "execution_count": 35,
      "outputs": [
        {
          "output_type": "execute_result",
          "data": {
            "text/plain": [
              "torch.Tensor"
            ]
          },
          "metadata": {},
          "execution_count": 35
        }
      ]
    },
    {
      "cell_type": "markdown",
      "source": [
        "operaciones de n lugares\n",
        "Las operaciones que almacenan el resultado en el operando se denominan in situ. Se denotan con un sufijo _. Por ejemplo: x.copy_(y), x.t_(), cambiará x.\n",
        "\n",
        "Nota: las operaciones en el lugar ahorran algo de memoria, pero pueden ser problemáticas al calcular derivados debido a una pérdida inmediata de la historia. Por lo tanto, se desaconseja su uso."
      ],
      "metadata": {
        "id": "Cp0LDQO4vCbq"
      }
    },
    {
      "cell_type": "code",
      "source": [
        "print(tensor, \"\\n\")\n",
        "tensor.add_(5)\n",
        "print(tensor)"
      ],
      "metadata": {
        "colab": {
          "base_uri": "https://localhost:8080/"
        },
        "id": "vfYT8qRpu5QA",
        "outputId": "91529b30-3d63-452b-ad5a-5ae841b5a6e0"
      },
      "execution_count": 36,
      "outputs": [
        {
          "output_type": "stream",
          "name": "stdout",
          "text": [
            "tensor([[1., 0., 1., 1.],\n",
            "        [1., 0., 1., 1.],\n",
            "        [1., 0., 1., 1.],\n",
            "        [1., 0., 1., 1.]]) \n",
            "\n",
            "tensor([[6., 5., 6., 6.],\n",
            "        [6., 5., 6., 6.],\n",
            "        [6., 5., 6., 6.],\n",
            "        [6., 5., 6., 6.]])\n"
          ]
        }
      ]
    },
    {
      "cell_type": "markdown",
      "source": [
        "Puente con NumPy\n",
        "Los tensores en la CPU y las matrices NumPy pueden compartir sus ubicaciones de memoria subyacentes, y cambiar uno cambiará el otro.\n",
        "\n",
        "Tensor a matriz NumPy\n"
      ],
      "metadata": {
        "id": "ryWUO7TfvMC7"
      }
    },
    {
      "cell_type": "code",
      "source": [
        "t = torch.ones(5)\n",
        "print(f\"t: {t}\")\n",
        "n = t.numpy()\n",
        "print(f\"n: {n}\")"
      ],
      "metadata": {
        "colab": {
          "base_uri": "https://localhost:8080/"
        },
        "id": "veXFDaIovUJU",
        "outputId": "c64b81ba-6a3e-4491-d335-e836f3052d32"
      },
      "execution_count": 15,
      "outputs": [
        {
          "output_type": "stream",
          "name": "stdout",
          "text": [
            "t: tensor([1., 1., 1., 1., 1.])\n",
            "n: [1. 1. 1. 1. 1.]\n"
          ]
        }
      ]
    },
    {
      "cell_type": "markdown",
      "source": [
        "Un cambio en el tensor se refleja en la matriz NumPy."
      ],
      "metadata": {
        "id": "jXRGSsk2vt9y"
      }
    },
    {
      "cell_type": "code",
      "source": [
        "t.add_(1)\n",
        "print(f\"t: {t}\")\n",
        "print(f\"n: {n}\")"
      ],
      "metadata": {
        "colab": {
          "base_uri": "https://localhost:8080/"
        },
        "id": "CEJurGvevhy7",
        "outputId": "5a912244-0c7c-4b8c-cd90-dcfc8987b2b7"
      },
      "execution_count": 16,
      "outputs": [
        {
          "output_type": "stream",
          "name": "stdout",
          "text": [
            "t: tensor([2., 2., 2., 2., 2.])\n",
            "n: [2. 2. 2. 2. 2.]\n"
          ]
        }
      ]
    },
    {
      "cell_type": "markdown",
      "source": [
        "Matriz NumPy a Tensor"
      ],
      "metadata": {
        "id": "UODVo-gcwGIp"
      }
    },
    {
      "cell_type": "code",
      "source": [
        "n = np.ones(5)\n",
        "t = torch.from_numpy(n)"
      ],
      "metadata": {
        "id": "P4PMTVBPwHtI"
      },
      "execution_count": 17,
      "outputs": []
    },
    {
      "cell_type": "markdown",
      "source": [
        "Los cambios en la matriz NumPy se reflejan en el tensor."
      ],
      "metadata": {
        "id": "C-JR-mT2wa08"
      }
    },
    {
      "cell_type": "code",
      "source": [
        "np.add(n, 1, out=n)\n",
        "print(f\"t: {t}\")\n",
        "print(f\"n: {n}\")"
      ],
      "metadata": {
        "colab": {
          "base_uri": "https://localhost:8080/"
        },
        "id": "zh9Wbq7rwRID",
        "outputId": "25c2e570-3bad-47d3-b47d-cd66c8b2670b"
      },
      "execution_count": 18,
      "outputs": [
        {
          "output_type": "stream",
          "name": "stdout",
          "text": [
            "t: tensor([2., 2., 2., 2., 2.], dtype=torch.float64)\n",
            "n: [2. 2. 2. 2. 2.]\n"
          ]
        }
      ]
    }
  ]
}