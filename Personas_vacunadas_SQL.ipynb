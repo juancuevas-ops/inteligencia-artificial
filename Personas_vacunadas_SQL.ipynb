{
  "nbformat": 4,
  "nbformat_minor": 0,
  "metadata": {
    "colab": {
      "name": "Personas_vacunadas_SQL.ipynb",
      "provenance": [],
      "authorship_tag": "ABX9TyP0octop8sUavm4YGvWWr+R",
      "include_colab_link": true
    },
    "kernelspec": {
      "name": "python3",
      "display_name": "Python 3"
    },
    "language_info": {
      "name": "python"
    }
  },
  "cells": [
    {
      "cell_type": "markdown",
      "metadata": {
        "id": "view-in-github",
        "colab_type": "text"
      },
      "source": [
        "<a href=\"https://colab.research.google.com/github/juancuevas-ops/inteligencia-artificial/blob/main/Personas_vacunadas_SQL.ipynb\" target=\"_parent\"><img src=\"https://colab.research.google.com/assets/colab-badge.svg\" alt=\"Open In Colab\"/></a>"
      ]
    },
    {
      "cell_type": "code",
      "execution_count": 1,
      "metadata": {
        "id": "lFJfVWgKqVpT"
      },
      "outputs": [],
      "source": [
        "import pandas as pd\n",
        "\n",
        "def pd_to_sqlDB(input_df: pd.DataFrame,\n",
        "                table_name: str,\n",
        "                db_name: str = 'default.db') -> None:\n",
        "\n",
        "    '''Take a Pandas dataframe `input_df` and upload it to `table_name` SQLITE table\n",
        "    Args:\n",
        "        input_df (pd.DataFrame): Dataframe containing data to upload to SQLITE\n",
        "        table_name (str): Name of the SQLITE table to upload to\n",
        "        db_name (str, optional): Name of the SQLITE Database in which the table is created. \n",
        "                                 Defaults to 'default.db'.\n",
        "    '''\n",
        "\n",
        "    # Paso 1: configurar el registro local\n",
        "    import logging\n",
        "    logging.basicConfig(level=logging.INFO,\n",
        "                        format='%(asctime)s %(levelname)s: %(message)s',\n",
        "                        datefmt='%Y-%m-%d %H:%M:%S')\n",
        "\n",
        "    # Paso 2: encuentra columnas en el marco de datos\n",
        "    cols = input_df.columns\n",
        "    cols_string = ','.join(cols)\n",
        "    val_wildcard_string = ','.join(['?'] * len(cols))\n",
        "\n",
        "    # Paso 3: conéctese a un archivo DB si existe, de lo contrario, cree un nuevo archivo\n",
        "    con = sqlite3.connect(db_name)\n",
        "    cur = con.cursor()\n",
        "    logging.info(f'SQL DB {db_name} created')\n",
        "\n",
        "    # Step 4: Crear una Tabla\n",
        "    sql_string = f\"\"\"CREATE TABLE {table_name} ({cols_string});\"\"\"\n",
        "    cur.execute(sql_string)\n",
        "    logging.info(f'SQL Table {table_name} created with {len(cols)} columns')\n",
        "\n",
        "    # Step 5: actualizar el  dataframe\n",
        "    rows_to_upload = input_df.to_dict(orient='split')['data']\n",
        "    sql_string = f\"\"\"INSERT INTO {table_name} ({cols_string}) VALUES ({val_wildcard_string});\"\"\"    \n",
        "    cur.executemany(sql_string, rows_to_upload)\n",
        "    logging.info(f'{len(rows_to_upload)} rows uploaded to {table_name}')\n",
        "  \n",
        "    # Step 6: Confirmar los cambios y cerrar la conexión.\n",
        "    con.commit()\n",
        "    con.close()"
      ]
    },
    {
      "cell_type": "code",
      "source": [
        "def sql_query_to_pd(sql_query_string: str, db_name: str ='default.db') -> pd.DataFrame:\n",
        "    '''Execute an SQL query and return the results as a pandas dataframe\n",
        "    Args:\n",
        "        sql_query_string (str): SQL query string to execute\n",
        "        db_name (str, optional): Name of the SQLITE Database to execute the query in.\n",
        "                                 Defaults to 'default.db'.\n",
        "    Returns:\n",
        "        pd.DataFrame: Results of the SQL query in a pandas dataframe\n",
        "    '''    \n",
        "    # Step 1: Connectando a  SQL DB\n",
        "    con = sqlite3.connect(db_name)\n",
        "\n",
        "    # Step 2: Ejecutando la consulta  Sql\n",
        "    cursor = con.execute(sql_query_string)\n",
        "\n",
        "    # Step 3: Obtener los datos y los nombres de las columnas\n",
        "    result_data = cursor.fetchall()\n",
        "    cols = [description[0] for description in cursor.description]\n",
        "\n",
        "    # Step 4: cerramos la conexion\n",
        "    con.close()\n",
        "\n",
        "    # Step 5: Devolver como un marco de datos\n",
        "    return pd.DataFrame(result_data, columns=cols)"
      ],
      "metadata": {
        "id": "BNt7zYIoq4Vw"
      },
      "execution_count": 2,
      "outputs": []
    },
    {
      "cell_type": "code",
      "source": [
        "import sqlite3\n",
        "# Step 1: leemos el dataframe\n",
        "# Datos provienen de  https://www.kaggle.com/gpreda/covid-world-vaccination-progress\n",
        "input_df = pd.read_csv('country_vaccinations.csv')"
      ],
      "metadata": {
        "id": "NPhfUyYXvD4K"
      },
      "execution_count": 3,
      "outputs": []
    },
    {
      "cell_type": "code",
      "source": [
        "# Step 2: actualizamos el dataframe a una tabla SQL\n",
        "pd_to_sqlDB(input_df,\n",
        "            table_name='country_vaccinatio',\n",
        "            db_name='default.db')\n"
      ],
      "metadata": {
        "id": "f525LSDFvTcI"
      },
      "execution_count": 5,
      "outputs": []
    },
    {
      "cell_type": "code",
      "source": [
        "# Step 3: escribimos la consulta en una variable de tipo string\n",
        "sql_query_string = \"\"\"\n",
        "    SELECT country, SUM(daily_vaccinations) as total_vaccinated\n",
        "    FROM country_vaccinations \n",
        "    WHERE daily_vaccinations IS NOT NULL \n",
        "    GROUP BY country\n",
        "    ORDER BY total_vaccinated DESC\n",
        "\"\"\""
      ],
      "metadata": {
        "id": "vZKUx8_evisd"
      },
      "execution_count": 6,
      "outputs": []
    },
    {
      "cell_type": "code",
      "source": [
        "# Step 4: y finalmente ejecutamos la consulta \n",
        "result_df = sql_query_to_pd(sql_query_string, db_name='default.db')\n",
        "result_df"
      ],
      "metadata": {
        "colab": {
          "base_uri": "https://localhost:8080/",
          "height": 655
        },
        "id": "-WWTsI5fvw-F",
        "outputId": "72b1b095-64a1-464e-9550-79e2d8f0d7dc"
      },
      "execution_count": 7,
      "outputs": [
        {
          "output_type": "execute_result",
          "data": {
            "text/plain": [
              "              country  total_vaccinated\n",
              "0               China      3.250342e+09\n",
              "1               India      1.829085e+09\n",
              "2       United States      5.601116e+08\n",
              "3              Brazil      4.113785e+08\n",
              "4           Indonesia      3.732136e+08\n",
              "..                ...               ...\n",
              "218  Falkland Islands      4.933000e+03\n",
              "219              Niue      4.324000e+03\n",
              "220        Montserrat      4.320000e+03\n",
              "221           Tokelau      1.966000e+03\n",
              "222          Pitcairn      4.300000e+01\n",
              "\n",
              "[223 rows x 2 columns]"
            ],
            "text/html": [
              "\n",
              "  <div id=\"df-32f8f2c2-23d5-40f2-8d13-084875b47b0c\">\n",
              "    <div class=\"colab-df-container\">\n",
              "      <div>\n",
              "<style scoped>\n",
              "    .dataframe tbody tr th:only-of-type {\n",
              "        vertical-align: middle;\n",
              "    }\n",
              "\n",
              "    .dataframe tbody tr th {\n",
              "        vertical-align: top;\n",
              "    }\n",
              "\n",
              "    .dataframe thead th {\n",
              "        text-align: right;\n",
              "    }\n",
              "</style>\n",
              "<table border=\"1\" class=\"dataframe\">\n",
              "  <thead>\n",
              "    <tr style=\"text-align: right;\">\n",
              "      <th></th>\n",
              "      <th>country</th>\n",
              "      <th>total_vaccinated</th>\n",
              "    </tr>\n",
              "  </thead>\n",
              "  <tbody>\n",
              "    <tr>\n",
              "      <th>0</th>\n",
              "      <td>China</td>\n",
              "      <td>3.250342e+09</td>\n",
              "    </tr>\n",
              "    <tr>\n",
              "      <th>1</th>\n",
              "      <td>India</td>\n",
              "      <td>1.829085e+09</td>\n",
              "    </tr>\n",
              "    <tr>\n",
              "      <th>2</th>\n",
              "      <td>United States</td>\n",
              "      <td>5.601116e+08</td>\n",
              "    </tr>\n",
              "    <tr>\n",
              "      <th>3</th>\n",
              "      <td>Brazil</td>\n",
              "      <td>4.113785e+08</td>\n",
              "    </tr>\n",
              "    <tr>\n",
              "      <th>4</th>\n",
              "      <td>Indonesia</td>\n",
              "      <td>3.732136e+08</td>\n",
              "    </tr>\n",
              "    <tr>\n",
              "      <th>...</th>\n",
              "      <td>...</td>\n",
              "      <td>...</td>\n",
              "    </tr>\n",
              "    <tr>\n",
              "      <th>218</th>\n",
              "      <td>Falkland Islands</td>\n",
              "      <td>4.933000e+03</td>\n",
              "    </tr>\n",
              "    <tr>\n",
              "      <th>219</th>\n",
              "      <td>Niue</td>\n",
              "      <td>4.324000e+03</td>\n",
              "    </tr>\n",
              "    <tr>\n",
              "      <th>220</th>\n",
              "      <td>Montserrat</td>\n",
              "      <td>4.320000e+03</td>\n",
              "    </tr>\n",
              "    <tr>\n",
              "      <th>221</th>\n",
              "      <td>Tokelau</td>\n",
              "      <td>1.966000e+03</td>\n",
              "    </tr>\n",
              "    <tr>\n",
              "      <th>222</th>\n",
              "      <td>Pitcairn</td>\n",
              "      <td>4.300000e+01</td>\n",
              "    </tr>\n",
              "  </tbody>\n",
              "</table>\n",
              "<p>223 rows × 2 columns</p>\n",
              "</div>\n",
              "      <button class=\"colab-df-convert\" onclick=\"convertToInteractive('df-32f8f2c2-23d5-40f2-8d13-084875b47b0c')\"\n",
              "              title=\"Convert this dataframe to an interactive table.\"\n",
              "              style=\"display:none;\">\n",
              "        \n",
              "  <svg xmlns=\"http://www.w3.org/2000/svg\" height=\"24px\"viewBox=\"0 0 24 24\"\n",
              "       width=\"24px\">\n",
              "    <path d=\"M0 0h24v24H0V0z\" fill=\"none\"/>\n",
              "    <path d=\"M18.56 5.44l.94 2.06.94-2.06 2.06-.94-2.06-.94-.94-2.06-.94 2.06-2.06.94zm-11 1L8.5 8.5l.94-2.06 2.06-.94-2.06-.94L8.5 2.5l-.94 2.06-2.06.94zm10 10l.94 2.06.94-2.06 2.06-.94-2.06-.94-.94-2.06-.94 2.06-2.06.94z\"/><path d=\"M17.41 7.96l-1.37-1.37c-.4-.4-.92-.59-1.43-.59-.52 0-1.04.2-1.43.59L10.3 9.45l-7.72 7.72c-.78.78-.78 2.05 0 2.83L4 21.41c.39.39.9.59 1.41.59.51 0 1.02-.2 1.41-.59l7.78-7.78 2.81-2.81c.8-.78.8-2.07 0-2.86zM5.41 20L4 18.59l7.72-7.72 1.47 1.35L5.41 20z\"/>\n",
              "  </svg>\n",
              "      </button>\n",
              "      \n",
              "  <style>\n",
              "    .colab-df-container {\n",
              "      display:flex;\n",
              "      flex-wrap:wrap;\n",
              "      gap: 12px;\n",
              "    }\n",
              "\n",
              "    .colab-df-convert {\n",
              "      background-color: #E8F0FE;\n",
              "      border: none;\n",
              "      border-radius: 50%;\n",
              "      cursor: pointer;\n",
              "      display: none;\n",
              "      fill: #1967D2;\n",
              "      height: 32px;\n",
              "      padding: 0 0 0 0;\n",
              "      width: 32px;\n",
              "    }\n",
              "\n",
              "    .colab-df-convert:hover {\n",
              "      background-color: #E2EBFA;\n",
              "      box-shadow: 0px 1px 2px rgba(60, 64, 67, 0.3), 0px 1px 3px 1px rgba(60, 64, 67, 0.15);\n",
              "      fill: #174EA6;\n",
              "    }\n",
              "\n",
              "    [theme=dark] .colab-df-convert {\n",
              "      background-color: #3B4455;\n",
              "      fill: #D2E3FC;\n",
              "    }\n",
              "\n",
              "    [theme=dark] .colab-df-convert:hover {\n",
              "      background-color: #434B5C;\n",
              "      box-shadow: 0px 1px 3px 1px rgba(0, 0, 0, 0.15);\n",
              "      filter: drop-shadow(0px 1px 2px rgba(0, 0, 0, 0.3));\n",
              "      fill: #FFFFFF;\n",
              "    }\n",
              "  </style>\n",
              "\n",
              "      <script>\n",
              "        const buttonEl =\n",
              "          document.querySelector('#df-32f8f2c2-23d5-40f2-8d13-084875b47b0c button.colab-df-convert');\n",
              "        buttonEl.style.display =\n",
              "          google.colab.kernel.accessAllowed ? 'block' : 'none';\n",
              "\n",
              "        async function convertToInteractive(key) {\n",
              "          const element = document.querySelector('#df-32f8f2c2-23d5-40f2-8d13-084875b47b0c');\n",
              "          const dataTable =\n",
              "            await google.colab.kernel.invokeFunction('convertToInteractive',\n",
              "                                                     [key], {});\n",
              "          if (!dataTable) return;\n",
              "\n",
              "          const docLinkHtml = 'Like what you see? Visit the ' +\n",
              "            '<a target=\"_blank\" href=https://colab.research.google.com/notebooks/data_table.ipynb>data table notebook</a>'\n",
              "            + ' to learn more about interactive tables.';\n",
              "          element.innerHTML = '';\n",
              "          dataTable['output_type'] = 'display_data';\n",
              "          await google.colab.output.renderOutput(dataTable, element);\n",
              "          const docLink = document.createElement('div');\n",
              "          docLink.innerHTML = docLinkHtml;\n",
              "          element.appendChild(docLink);\n",
              "        }\n",
              "      </script>\n",
              "    </div>\n",
              "  </div>\n",
              "  "
            ]
          },
          "metadata": {},
          "execution_count": 7
        }
      ]
    },
    {
      "cell_type": "markdown",
      "source": [
        "resultado del total de vacunaciones contra el covid por pais"
      ],
      "metadata": {
        "id": "NdlCpXTPx_qo"
      }
    },
    {
      "cell_type": "markdown",
      "source": [
        "# Updated code by Juan Cuevas Vasquez"
      ],
      "metadata": {
        "id": "SOulSv-OwLb5"
      }
    }
  ]
}