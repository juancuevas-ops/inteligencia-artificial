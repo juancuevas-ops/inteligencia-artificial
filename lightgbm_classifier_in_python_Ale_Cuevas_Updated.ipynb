{
  "cells": [
    {
      "cell_type": "markdown",
      "metadata": {
        "id": "view-in-github",
        "colab_type": "text"
      },
      "source": [
        "<a href=\"https://colab.research.google.com/github/juancuevas-ops/inteligencia-artificial/blob/main/lightgbm_classifier_in_python_Ale_Cuevas_Updated.ipynb\" target=\"_parent\"><img src=\"https://colab.research.google.com/assets/colab-badge.svg\" alt=\"Open In Colab\"/></a>"
      ]
    },
    {
      "metadata": {
        "id": "3CZrB6shw69I"
      },
      "cell_type": "markdown",
      "source": [
        "<a class=\"anchor\" id=\"0\"></a>\n",
        "# **LightGBM Classifier en Lenguaje Python**\n",
        "\n",
        "\n",
        "Hola amigos,\n",
        "\n",
        "\n",
        "En este núcleo, analizaré uno de los clasificadores LightGBM de algoritmos de aprendizaje automático más exitosos. LightGBM es un marco de refuerzo de gradiente rápido, distribuido y de alto rendimiento basado en algoritmos de árboles de decisión, que se utiliza para clasificar, clasificar y muchas otras tareas de aprendizaje automático. Ha ayudado a Kagglers a ganar concursos de ciencia de datos."
      ]
    },
    {
      "metadata": {
        "id": "YJP6N0Lqw69b"
      },
      "cell_type": "markdown",
      "source": [
        "# **1. Introduction to LightGBM** <a class=\"anchor\" id=\"1\"></a>\n",
        "\n",
        "\n",
        "[Table of Contents](#0.1)\n",
        "\n",
        "\n",
        "- [LightGBM](https://github.com/juancuevas-ops/inteligencia-artificial) *. \n",
        "\n",
        "es un marco de refuerzo de gradiente que utiliza algoritmos de aprendizaje basados ​​en árboles. Está diseñado para ser distribuido y eficiente con las siguientes ventajas:\n",
        "\n",
        "  - Mayor velocidad de entrenamiento y mayor eficiencia.\n",
        "  - Menor uso de memoria.\n",
        "  - Mejor precisión.\n",
        "  - Soporte de aprendizaje paralelo y GPU.\n",
        "  - Capaz de manejar datos a gran escala.\n",
        "  \n",
        "  \n",
        "- En la actualidad, los algoritmos de aprendizaje automático basados ​​en árboles de decisión dominan las competiciones de Kaggle. Las soluciones ganadoras de estos concursos han adoptado un algoritmo denominado **XGBoost**.\n",
        "\n",
        "- Hace un par de años, Microsoft anunció LightGBM, su plataforma de potenciación de gradientes. Hoy en día, roba el centro de atención en las máquinas de aumento de gradiente. Los Kagglers comienzan a usar LightGBM más que XGBoost. LightGBM es 6 veces más rápido que XGBoost.\n",
        "\n",
        "- Light GBM es un algoritmo relativamente nuevo y tiene una larga lista de parámetros en la [documentación de LightGBM] (https://github.com/microsoft/LightGBM),\n",
        "\n",
        "- El tamaño del conjunto de datos está aumentando rápidamente. Se ha vuelto muy difícil para los algoritmos tradicionales de ciencia de datos dar resultados precisos. Light GBM tiene el prefijo **Light** debido a su alta velocidad. **Light GBM puede manejar un gran tamaño de datos y requiere menos memoria para ejecutarse*"
      ]
    },
    {
      "metadata": {
        "id": "5G1UHpNsw69c"
      },
      "cell_type": "markdown",
      "source": [
        "# **2. LightGBM intuition** <a class=\"anchor\" id=\"2\"></a>\n",
        "\n",
        "\n",
        "[Table of Contents](#0.1)\n",
        "\n",
        "\n",
        "- LightGBM es un marco de refuerzo de gradiente que utiliza un algoritmo de aprendizaje basado en árboles.\n",
        "\n",
        "\n",
        "- La documentación de LightGBM establece que -\n",
        "\n",
        " `LightGBM hace crecer el árbol verticalmente, mientras que otros algoritmos de aprendizaje basados ​​en árboles hacen crecer los árboles horizontalmente.\n",
        " Significa que LightGBM crece en forma de hoja de árbol mientras que otros algoritmos crecen en nivel. elegirá\n",
        " la hoja con máxima pérdida delta para crecer. Al cultivar la misma hoja, el algoritmo de hoja inteligente puede reducir más\n",
        " pérdida que un algoritmo nivelado.\n",
        " \n",
        " \n",
        " - Por lo tanto, debemos comprender la distinción entre el crecimiento de los árboles por hojas y el crecimiento de los árboles por niveles."
      ]
    },
    {
      "metadata": {
        "id": "M1OMTjqJw69d"
      },
      "cell_type": "markdown",
      "source": [
        "## **2.1 Árbol de hoja sabia** <a class=\"anchor\" id=\"2.1\"></a>\n",
        "\n",
        "\n",
        "\n",
        "\n",
        "\n",
        "-El crecimiento de los árboles en forma de hojas se puede explicar mejor con la siguiente imagen:"
      ]
    },
    {
      "metadata": {
        "id": "HfsjjW22w69e"
      },
      "cell_type": "markdown",
      "source": [
        "![Leaf-wise tree growth](https://i.stack.imgur.com/YOE9y.png)"
      ]
    },
    {
      "metadata": {
        "id": "nX9IsMTvw69f"
      },
      "cell_type": "markdown",
      "source": [
        "## **2.2 Level-wise tree growth** <a class=\"anchor\" id=\"2.2\"></a>\n",
        "\n",
        "\n",
        "\n",
        "\n",
        "\n",
        "- La mayoría de los algoritmos de aprendizaje de árboles de decisión hacen crecer el árbol por nivel (profundidad).\n",
        "\n",
        "- El crecimiento del árbol por niveles se puede explicar mejor con la siguiente imagen:"
      ]
    },
    {
      "metadata": {
        "id": "orXz8FCBw69h"
      },
      "cell_type": "markdown",
      "source": [
        "![Level-wise tree growth](https://i.stack.imgur.com/e1FWe.png)"
      ]
    },
    {
      "metadata": {
        "id": "t0bIpv9Vw69i"
      },
      "cell_type": "markdown",
      "source": [
        "## **Important points about tree-growth**\n",
        "\n",
        "\n",
        "- Si cultivamos el árbol completo, **lo mejor primero (por hoja)** y **profundidad primero (por nivel)** darán como resultado el mismo árbol. La diferencia está en el orden en que se expande el árbol. Dado que normalmente no cultivamos árboles en toda su profundidad, el orden es importante.\n",
        "\n",
        "- La aplicación de criterios de parada temprana y métodos de poda puede dar como resultado árboles muy diferentes. Debido a que leaf-wise elige divisiones en función de su contribución a la pérdida global y no solo la pérdida a lo largo de una rama en particular, a menudo (no siempre) aprenderá árboles de menor error \"más rápido\" que en nivel.\n",
        "\n",
        "- Para una pequeña cantidad de nodos, el nivel de hoja probablemente supere el nivel. A medida que agreguemos más nodos, sin detenerlos ni podarlos, convergerán al mismo rendimiento porque eventualmente construirán literalmente el mismo árbol."
      ]
    },
    {
      "metadata": {
        "id": "rw-NsOFpw69j"
      },
      "cell_type": "markdown",
      "source": [
        "# **3. XGBoost Vs LightGBM** <a class=\"anchor\" id=\"3\"></a>\n",
        "\n",
        "\n",
        "[Table of Contents](#0.1)\n",
        "\n",
        "\n",
        "\n",
        "- [XGBoost](https://github.com/dmlc/xgboost) es un algoritmo ML muy rápido y preciso. Pero ahora ha sido desafiado por [LightGBM](https://github.com/microsoft/LightGBM), que se ejecuta incluso más rápido con una precisión de modelo comparable y más hiperparámetros para que los usuarios ajusten.\n",
        "\n",
        "- La diferencia clave en la velocidad es que **XGBoost divide los nodos del árbol un nivel a la vez** y **LightGBM hace ese nodo a la vez**.\n",
        "\n",
        "- Entonces, los desarrolladores de XGBoost mejoraron más tarde sus algoritmos para ponerse al día con LightGBM, lo que ayudó a los usuarios a ejecutar XGBoost en modo dividido por hoja `(grow_policy = 'lossguide')`. Ahora, XGBoost es mucho más rápido con esta mejora, pero LightGBM sigue siendo aproximadamente 1,3X — 1,5X la velocidad de XGB.\n",
        "\n",
        "- Otra diferencia entre XGBoost y LightGBM es que XGBoost tiene una función de la que carece de LightGBM: **restricción monotónica**. Sacrificará parte de la precisión del modelo y eliminará el tiempo de entrenamiento, pero puede mejorar la interpretación del modelo."
      ]
    },
    {
      "metadata": {
        "id": "EoNvNCdCw69k"
      },
      "cell_type": "markdown",
      "source": [
        "# **4. LightGBM Parameters** <a class=\"anchor\" id=\"4\"></a>\n",
        "\n",
        "\n",
        "[Table of Contents](#0.1)\n",
        "\n",
        "\n",
        "- [LightGBM](https://github.com/microsoft/LightGBM) provides more than 100 [LightGBM parameters](https://github.com/microsoft/LightGBM/blob/master/docs/Parameters.rst).\n",
        "\n",
        "- It is very important to know some basic parameters of LightGBM. \n",
        "\n",
        "- So, in this section, I will discuss some basic parameters of LightGBM.\n"
      ]
    },
    {
      "metadata": {
        "id": "w7Z0v8hbw69l"
      },
      "cell_type": "markdown",
      "source": [
        "## **4.1 Control Parameters** <a class=\"anchor\" id=\"4.1\"></a>\n",
        "\n",
        "\n",
        "\n",
        "\n",
        "- **max_ depth** : Describe la profundidad máxima del árbol. Este parámetro se usa para manejar el sobreajuste del modelo. Si cree que su modelo está sobreajustado, debe reducir la profundidad máxima.\n",
        "\n",
        "- **min_data_in_leaf** : Es el número mínimo de registros que puede tener una hoja. El valor por defecto es 20, valor óptimo. También se utiliza para tratar el sobreajuste.\n",
        "\n",
        "- **feature_fraction**: se usa cuando tu impulso es un bosque aleatorio. La fracción de características de 0.8 significa que LightGBM seleccionará el 80% de los parámetros aleatoriamente en cada iteración para construir árboles.\n",
        "\n",
        "- **bagging_fraction**: especifica la fracción de datos que se usará para cada iteración y generalmente se usa para acelerar el entrenamiento y evitar el sobreajuste.\n",
        "\n",
        "- **early_stopping_round** : este parámetro puede ayudarlo a acelerar su análisis. El modelo dejará de entrenarse si una métrica de un dato de validación no mejora en las últimas rondas de Early_Stopping_Round. Esto reducirá las iteraciones excesivas.\n",
        "\n",
        "- **lambda** : lambda especifica la regularización. El valor típico varía de 0 a 1.\n",
        "\n",
        "- **min_gain_to_split** : Este parámetro describirá la ganancia mínima para realizar un split. Se puede utilizar para controlar el número de divisiones útiles en el árbol.\n",
        "\n",
        "- **max_cat_group** : cuando el número de categorías es grande, es fácil encontrar el punto de división en un ajuste excesivo. Entonces LightGBM los fusiona en grupos 'max_cat_group' y encuentra los puntos de división en los límites del grupo, por defecto: 64."
      ]
    },
    {
      "metadata": {
        "id": "tWqhnD6hw69l"
      },
      "cell_type": "markdown",
      "source": [
        "## **4.2 Core Parameters** <a class=\"anchor\" id=\"4.2\"></a>\n",
        "\n",
        "\n",
        "\n",
        "\n",
        "-*Tarea**: especifica la tarea que desea realizar en los datos. Puede ser entrenado o predecir.\n",
        "\n",
        "- **aplicación**: este es el parámetro más importante y especifica la aplicación de su modelo, ya sea un problema de regresión o un problema de clasificación. LightGBM considerará por defecto el modelo como un modelo de regresión.\n",
        "\n",
        "  - **regresión** : para regresión\n",
        "  - **binary** : para clasificación binaria\n",
        "  - **multiclase** : para problemas de clasificación multiclase\n",
        "  \n",
        "  \n",
        "- **boosting** : define el tipo de algoritmo que desea ejecutar, por defecto=gdbt.\n",
        "\n",
        "  - **gbdt** : árbol de decisión de aumento de gradiente tradicional\n",
        "  - **rf**: bosque aleatorio\n",
        "  - **dardo**: los abandonos se encuentran con árboles de regresión aditivos múltiples\n",
        "  - **goss**: Muestreo de un lado basado en degradado\n",
        "  \n",
        "  \n",
        "- **num_boost_round**: número de iteraciones de impulso, normalmente más de 100\n",
        "\n",
        "- **learning_rate**: Esto determina el impacto de cada árbol en el resultado final. GBM funciona comenzando con una estimación inicial que se actualiza utilizando la salida de cada árbol. El parámetro de aprendizaje controla la magnitud de este cambio en las estimaciones. Valores típicos: 0.1, 0.001, 0.003…\n",
        "\n",
        "- **num_hojas**: número de hojas en el árbol completo, por defecto: 31\n",
        "\n",
        "- **dispositivo**: predeterminado: cpu, también puede pasar gpu"
      ]
    },
    {
      "metadata": {
        "id": "ouDuf8i-w69m"
      },
      "cell_type": "markdown",
      "source": [
        "## **4.3 Metric Parameter** <a class=\"anchor\" id=\"4.3\"></a>\n",
        "\n",
        "\n",
        "[Table of Contents](#0.1)\n",
        "\n",
        "\n",
        "- metric: again one of the important parameter as it specifies loss for model building. Below are few general losses for regression and classification.\n",
        "\n",
        "  - **mae** : mean absolute error\n",
        "  - **mse** : mean squared error\n",
        "  - **binary_logloss** : loss for binary classification\n",
        "  - **multi_logloss** : loss for multi classification"
      ]
    },
    {
      "metadata": {
        "id": "9PzTkxd2w69n"
      },
      "cell_type": "markdown",
      "source": [
        "## **4.4 IO Parameter** <a class=\"anchor\" id=\"4.4\"></a>\n",
        "\n",
        "\n",
        "\n",
        "\n",
        "- **max_bin**: indica el número máximo de contenedores en los que se acumulará el valor de la característica.\n",
        "\n",
        "- **categorical_feature** : Denota el índice de características categóricas. Si categorical_features=0,1,2 entonces la columna 0, la columna 1 y la columna 2 son variables categóricas.\n",
        "\n",
        "- **ignore_column**: igual que categorical_features solo que en lugar de considerar columnas específicas como categóricas, las ignorará por completo.\n",
        "\n",
        "- **save_binary**: si realmente está tratando con el tamaño de la memoria de su archivo de datos, especifique este parámetro como 'Verdadero'. Especificar el parámetro verdadero guardará el conjunto de datos en un archivo binario, este archivo binario acelerará el tiempo de lectura de datos para la próxima vez.\n"
      ]
    },
    {
      "metadata": {
        "id": "MIULeFl1w69o"
      },
      "cell_type": "markdown",
      "source": [
        "Now, we move on to the LightGBM implementation."
      ]
    },
    {
      "metadata": {
        "trusted": true,
        "id": "JXn_2Mdhw69o"
      },
      "cell_type": "markdown",
      "source": [
        "# **5. LightGBM implementacion in Python** <a class=\"anchor\" id=\"5\"></a>\n",
        "\n",
        "\n",
        "["
      ]
    },
    {
      "metadata": {
        "id": "FkS-u-dvw69p"
      },
      "cell_type": "markdown",
      "source": [
        "## **Configuración inicial**"
      ]
    },
    {
      "metadata": {
        "trusted": true,
        "id": "ceJ-oGAOw69t"
      },
      "cell_type": "code",
      "source": [
        "# ignore warnings\n",
        "import warnings\n",
        "warnings.filterwarnings(\"ignore\")\n"
      ],
      "execution_count": 27,
      "outputs": []
    },
    {
      "cell_type": "code",
      "source": [
        "import numpy as np # linear algebra\n",
        "import pandas as pd # data processing, CSV file I/O (e.g. pd.read_csv)\n",
        "import matplotlib.pyplot as plt # data visualization\n",
        "import seaborn as sns # statistical data visualization"
      ],
      "metadata": {
        "id": "pk9JTjF42hM7"
      },
      "execution_count": 28,
      "outputs": []
    },
    {
      "metadata": {
        "id": "tFU829yVw69u"
      },
      "cell_type": "markdown",
      "source": [
        "## **Lectura del dataset**"
      ]
    },
    {
      "metadata": {
        "trusted": true,
        "colab": {
          "base_uri": "https://localhost:8080/",
          "height": 206
        },
        "id": "nmduwUWYw69u",
        "outputId": "6a715fb8-bebc-4e05-de47-6ea807f644a4"
      },
      "cell_type": "code",
      "source": [
        "import pandas as pd\n",
        "\n",
        "# tenemos una vista previa de carga de de los datos obteniendo las primera 5 filas del dataset\n",
        "df = pd.read_csv('/content/Breast_cancer_data_1.csv')\n",
        "df.head()"
      ],
      "execution_count": 29,
      "outputs": [
        {
          "output_type": "execute_result",
          "data": {
            "text/plain": [
              "   mean_radius  mean_texture  mean_perimeter  mean_area  mean_smoothness  \\\n",
              "0        17.99         10.38          122.80     1001.0          0.11840   \n",
              "1        20.57         17.77          132.90     1326.0          0.08474   \n",
              "2        19.69         21.25          130.00     1203.0          0.10960   \n",
              "3        11.42         20.38           77.58      386.1          0.14250   \n",
              "4        20.29         14.34          135.10     1297.0          0.10030   \n",
              "\n",
              "   diagnosis  \n",
              "0          0  \n",
              "1          0  \n",
              "2          0  \n",
              "3          0  \n",
              "4          0  "
            ],
            "text/html": [
              "\n",
              "  <div id=\"df-8ceb0f8d-543d-4dfe-8b09-6ca52e9894d5\">\n",
              "    <div class=\"colab-df-container\">\n",
              "      <div>\n",
              "<style scoped>\n",
              "    .dataframe tbody tr th:only-of-type {\n",
              "        vertical-align: middle;\n",
              "    }\n",
              "\n",
              "    .dataframe tbody tr th {\n",
              "        vertical-align: top;\n",
              "    }\n",
              "\n",
              "    .dataframe thead th {\n",
              "        text-align: right;\n",
              "    }\n",
              "</style>\n",
              "<table border=\"1\" class=\"dataframe\">\n",
              "  <thead>\n",
              "    <tr style=\"text-align: right;\">\n",
              "      <th></th>\n",
              "      <th>mean_radius</th>\n",
              "      <th>mean_texture</th>\n",
              "      <th>mean_perimeter</th>\n",
              "      <th>mean_area</th>\n",
              "      <th>mean_smoothness</th>\n",
              "      <th>diagnosis</th>\n",
              "    </tr>\n",
              "  </thead>\n",
              "  <tbody>\n",
              "    <tr>\n",
              "      <th>0</th>\n",
              "      <td>17.99</td>\n",
              "      <td>10.38</td>\n",
              "      <td>122.80</td>\n",
              "      <td>1001.0</td>\n",
              "      <td>0.11840</td>\n",
              "      <td>0</td>\n",
              "    </tr>\n",
              "    <tr>\n",
              "      <th>1</th>\n",
              "      <td>20.57</td>\n",
              "      <td>17.77</td>\n",
              "      <td>132.90</td>\n",
              "      <td>1326.0</td>\n",
              "      <td>0.08474</td>\n",
              "      <td>0</td>\n",
              "    </tr>\n",
              "    <tr>\n",
              "      <th>2</th>\n",
              "      <td>19.69</td>\n",
              "      <td>21.25</td>\n",
              "      <td>130.00</td>\n",
              "      <td>1203.0</td>\n",
              "      <td>0.10960</td>\n",
              "      <td>0</td>\n",
              "    </tr>\n",
              "    <tr>\n",
              "      <th>3</th>\n",
              "      <td>11.42</td>\n",
              "      <td>20.38</td>\n",
              "      <td>77.58</td>\n",
              "      <td>386.1</td>\n",
              "      <td>0.14250</td>\n",
              "      <td>0</td>\n",
              "    </tr>\n",
              "    <tr>\n",
              "      <th>4</th>\n",
              "      <td>20.29</td>\n",
              "      <td>14.34</td>\n",
              "      <td>135.10</td>\n",
              "      <td>1297.0</td>\n",
              "      <td>0.10030</td>\n",
              "      <td>0</td>\n",
              "    </tr>\n",
              "  </tbody>\n",
              "</table>\n",
              "</div>\n",
              "      <button class=\"colab-df-convert\" onclick=\"convertToInteractive('df-8ceb0f8d-543d-4dfe-8b09-6ca52e9894d5')\"\n",
              "              title=\"Convert this dataframe to an interactive table.\"\n",
              "              style=\"display:none;\">\n",
              "        \n",
              "  <svg xmlns=\"http://www.w3.org/2000/svg\" height=\"24px\"viewBox=\"0 0 24 24\"\n",
              "       width=\"24px\">\n",
              "    <path d=\"M0 0h24v24H0V0z\" fill=\"none\"/>\n",
              "    <path d=\"M18.56 5.44l.94 2.06.94-2.06 2.06-.94-2.06-.94-.94-2.06-.94 2.06-2.06.94zm-11 1L8.5 8.5l.94-2.06 2.06-.94-2.06-.94L8.5 2.5l-.94 2.06-2.06.94zm10 10l.94 2.06.94-2.06 2.06-.94-2.06-.94-.94-2.06-.94 2.06-2.06.94z\"/><path d=\"M17.41 7.96l-1.37-1.37c-.4-.4-.92-.59-1.43-.59-.52 0-1.04.2-1.43.59L10.3 9.45l-7.72 7.72c-.78.78-.78 2.05 0 2.83L4 21.41c.39.39.9.59 1.41.59.51 0 1.02-.2 1.41-.59l7.78-7.78 2.81-2.81c.8-.78.8-2.07 0-2.86zM5.41 20L4 18.59l7.72-7.72 1.47 1.35L5.41 20z\"/>\n",
              "  </svg>\n",
              "      </button>\n",
              "      \n",
              "  <style>\n",
              "    .colab-df-container {\n",
              "      display:flex;\n",
              "      flex-wrap:wrap;\n",
              "      gap: 12px;\n",
              "    }\n",
              "\n",
              "    .colab-df-convert {\n",
              "      background-color: #E8F0FE;\n",
              "      border: none;\n",
              "      border-radius: 50%;\n",
              "      cursor: pointer;\n",
              "      display: none;\n",
              "      fill: #1967D2;\n",
              "      height: 32px;\n",
              "      padding: 0 0 0 0;\n",
              "      width: 32px;\n",
              "    }\n",
              "\n",
              "    .colab-df-convert:hover {\n",
              "      background-color: #E2EBFA;\n",
              "      box-shadow: 0px 1px 2px rgba(60, 64, 67, 0.3), 0px 1px 3px 1px rgba(60, 64, 67, 0.15);\n",
              "      fill: #174EA6;\n",
              "    }\n",
              "\n",
              "    [theme=dark] .colab-df-convert {\n",
              "      background-color: #3B4455;\n",
              "      fill: #D2E3FC;\n",
              "    }\n",
              "\n",
              "    [theme=dark] .colab-df-convert:hover {\n",
              "      background-color: #434B5C;\n",
              "      box-shadow: 0px 1px 3px 1px rgba(0, 0, 0, 0.15);\n",
              "      filter: drop-shadow(0px 1px 2px rgba(0, 0, 0, 0.3));\n",
              "      fill: #FFFFFF;\n",
              "    }\n",
              "  </style>\n",
              "\n",
              "      <script>\n",
              "        const buttonEl =\n",
              "          document.querySelector('#df-8ceb0f8d-543d-4dfe-8b09-6ca52e9894d5 button.colab-df-convert');\n",
              "        buttonEl.style.display =\n",
              "          google.colab.kernel.accessAllowed ? 'block' : 'none';\n",
              "\n",
              "        async function convertToInteractive(key) {\n",
              "          const element = document.querySelector('#df-8ceb0f8d-543d-4dfe-8b09-6ca52e9894d5');\n",
              "          const dataTable =\n",
              "            await google.colab.kernel.invokeFunction('convertToInteractive',\n",
              "                                                     [key], {});\n",
              "          if (!dataTable) return;\n",
              "\n",
              "          const docLinkHtml = 'Like what you see? Visit the ' +\n",
              "            '<a target=\"_blank\" href=https://colab.research.google.com/notebooks/data_table.ipynb>data table notebook</a>'\n",
              "            + ' to learn more about interactive tables.';\n",
              "          element.innerHTML = '';\n",
              "          dataTable['output_type'] = 'display_data';\n",
              "          await google.colab.output.renderOutput(dataTable, element);\n",
              "          const docLink = document.createElement('div');\n",
              "          docLink.innerHTML = docLinkHtml;\n",
              "          element.appendChild(docLink);\n",
              "        }\n",
              "      </script>\n",
              "    </div>\n",
              "  </div>\n",
              "  "
            ]
          },
          "metadata": {},
          "execution_count": 29
        }
      ]
    },
    {
      "metadata": {
        "id": "CGeBcmKVw69v"
      },
      "cell_type": "markdown",
      "source": [
        "## **View summary of dataset**\n",
        "## ## **Ver resumen del conjunto de datos**"
      ]
    },
    {
      "metadata": {
        "trusted": true,
        "colab": {
          "base_uri": "https://localhost:8080/"
        },
        "id": "_PBU9eOPw69w",
        "outputId": "e920bb09-69b8-4ec6-918a-e0ffcbaf31e3"
      },
      "cell_type": "code",
      "source": [
        "# view summary of dataset\n",
        "df.info()"
      ],
      "execution_count": 25,
      "outputs": [
        {
          "output_type": "stream",
          "name": "stdout",
          "text": [
            "<class 'pandas.core.frame.DataFrame'>\n",
            "RangeIndex: 569 entries, 0 to 568\n",
            "Data columns (total 6 columns):\n",
            " #   Column           Non-Null Count  Dtype  \n",
            "---  ------           --------------  -----  \n",
            " 0   mean_radius      569 non-null    float64\n",
            " 1   mean_texture     569 non-null    float64\n",
            " 2   mean_perimeter   569 non-null    float64\n",
            " 3   mean_area        569 non-null    float64\n",
            " 4   mean_smoothness  569 non-null    float64\n",
            " 5   diagnosis        569 non-null    int64  \n",
            "dtypes: float64(5), int64(1)\n",
            "memory usage: 26.8 KB\n"
          ]
        }
      ]
    },
    {
      "metadata": {
        "id": "lYpNLI7mw69w"
      },
      "cell_type": "markdown",
      "source": [
        "- We can see that there are 6 columns in the dataset and there are no missing values."
      ]
    },
    {
      "metadata": {
        "id": "mjvOEAINw69w"
      },
      "cell_type": "markdown",
      "source": [
        "## **Comprobar la distribución de la variable objetivo**\n",
        "\n",
        "- la variable objetivo es `diagnóstico`\n",
        "- comprobar la distribución de la variable objetivo."
      ]
    },
    {
      "metadata": {
        "trusted": true,
        "colab": {
          "base_uri": "https://localhost:8080/"
        },
        "id": "L2OeYQbNw69x",
        "outputId": "15ebf239-f139-4675-a404-b4fe088ab36a"
      },
      "cell_type": "code",
      "source": [
        "# # comprobar la distribución de la variable objetivo en este caso es diagnosis o diagnostico del cancer\n",
        "df['diagnosis'].value_counts()"
      ],
      "execution_count": 26,
      "outputs": [
        {
          "output_type": "execute_result",
          "data": {
            "text/plain": [
              "1    357\n",
              "0    212\n",
              "Name: diagnosis, dtype: int64"
            ]
          },
          "metadata": {},
          "execution_count": 26
        }
      ]
    },
    {
      "metadata": {
        "id": "nXM3xK06w69x"
      },
      "cell_type": "markdown",
      "source": [
        "\n",
        "\n",
        "La variable objetivo es el diagnóstico. Contiene 2 valores - 0 y 1.\n",
        "\n",
        "0 es para predicción negativa y 1 para predicción positiva.\n",
        "\n",
        "Podemos ver que el problema es una tarea de clasificación binaria."
      ]
    },
    {
      "metadata": {
        "id": "XztKHREzw69y"
      },
      "cell_type": "markdown",
      "source": [
        "## **Declare feature vector and target variable**\n",
        "\n",
        "## **Declarar vector de características y variable de destino\n",
        " en este caso las variables que insiden en que un diagnostico del cancer sea preciso son las siguentes variable:'radio_medio','textura_media','perímetro_medio','área_media','suavidad_media"
      ]
    },
    {
      "metadata": {
        "trusted": true,
        "id": "43R5tBKFw69y"
      },
      "cell_type": "code",
      "source": [
        "X = df[['mean_radius','mean_texture','mean_perimeter','mean_area','mean_smoothness']]\n",
        "y = df['diagnosis']"
      ],
      "execution_count": 8,
      "outputs": []
    },
    {
      "metadata": {
        "id": "ctlYzTn1w69y"
      },
      "cell_type": "markdown",
      "source": [
        "## **Split dataset into training and test set**\n",
        "## **Dividir conjunto de datos en conjunto de entrenamiento y prueba**"
      ]
    },
    {
      "metadata": {
        "trusted": true,
        "id": "rYvT7HA_w69z"
      },
      "cell_type": "code",
      "source": [
        "# split the dataset into the training set and test set\n",
        "from sklearn.model_selection import train_test_split\n",
        "X_train, X_test, y_train, y_test = train_test_split(X, y, test_size = 0.3, random_state = 0)"
      ],
      "execution_count": 30,
      "outputs": []
    },
    {
      "metadata": {
        "id": "3PS32jLow69z"
      },
      "cell_type": "markdown",
      "source": [
        "\n",
        "## **Desarrollo y entrenamiento del modelo LightGBM**\n",
        "\n",
        "\n",
        "- Necesitamos convertir nuestros datos de entrenamiento al formato de conjunto de datos de LightGBM (esto es obligatorio para el entrenamiento de LightGBM).\n",
        "\n",
        "- Después de crear el conjunto de datos necesario, creamos un diccionario de Python con parámetros y sus valores.\n",
        "\n",
        "- La precisión del modelo depende de los valores que proporcionemos a los parámetros."
      ]
    },
    {
      "metadata": {
        "trusted": true,
        "colab": {
          "base_uri": "https://localhost:8080/"
        },
        "id": "pBqwP32lw690",
        "outputId": "36bb6431-b560-492d-c119-6080eb60aeb9"
      },
      "cell_type": "code",
      "source": [
        "# build the lightgbm model\n",
        "import lightgbm as lgb\n",
        "clf = lgb.LGBMClassifier()\n",
        "clf.fit(X_train, y_train)"
      ],
      "execution_count": 31,
      "outputs": [
        {
          "output_type": "execute_result",
          "data": {
            "text/plain": [
              "LGBMClassifier()"
            ]
          },
          "metadata": {},
          "execution_count": 31
        }
      ]
    },
    {
      "metadata": {
        "id": "QYTn0Svkw691"
      },
      "cell_type": "markdown",
      "source": [
        "## **## **Predicción del modelo****"
      ]
    },
    {
      "metadata": {
        "trusted": true,
        "id": "mPri2cTzw691"
      },
      "cell_type": "code",
      "source": [
        "# predict the results\n",
        "y_pred=clf.predict(X_test)\n"
      ],
      "execution_count": 32,
      "outputs": []
    },
    {
      "metadata": {
        "id": "fGjXxZF1w692"
      },
      "cell_type": "markdown",
      "source": [
        "## **View Accuracy**\n",
        "## **Ver Precisión**"
      ]
    },
    {
      "metadata": {
        "trusted": true,
        "colab": {
          "base_uri": "https://localhost:8080/"
        },
        "id": "gZTjG3w8w692",
        "outputId": "3f44218e-cf1f-40ec-cf7c-30163c099f82"
      },
      "cell_type": "code",
      "source": [
        "# view accuracy\n",
        "from sklearn.metrics import accuracy_score\n",
        "accuracy=accuracy_score(y_pred, y_test)\n",
        "print('LightGBM Model accuracy score: {0:0.4f}'.format(accuracy_score(y_test, y_pred)))"
      ],
      "execution_count": 33,
      "outputs": [
        {
          "output_type": "stream",
          "name": "stdout",
          "text": [
            "LightGBM Model accuracy score: 0.9240\n"
          ]
        }
      ]
    },
    {
      "metadata": {
        "id": "5cNg3Ueyw693"
      },
      "cell_type": "markdown",
      "source": [
        "\n",
        "- Aquí, `y_test` son las etiquetas de clase verdaderas e `y_pred` son las etiquetas de clase predichas en el conjunto de prueba."
      ]
    },
    {
      "metadata": {
        "id": "dGrOOgotw693"
      },
      "cell_type": "markdown",
      "source": [
        "## **Compare train and test set accuracy**\n",
        "\n",
        "\n",
        "Compare la precisión del tren y del conjunto de pruebas\n",
        "Ahora, compararé la precisión del conjunto de trenes y del conjunto de prueba para comprobar si hay sobreajuste."
      ]
    },
    {
      "metadata": {
        "trusted": true,
        "id": "B-q-Hp-pw693"
      },
      "cell_type": "code",
      "source": [
        "y_pred_train = clf.predict(X_train)"
      ],
      "execution_count": 34,
      "outputs": []
    },
    {
      "metadata": {
        "trusted": true,
        "colab": {
          "base_uri": "https://localhost:8080/"
        },
        "id": "ItrMhflIw694",
        "outputId": "9b0e157f-bd4c-496a-8a51-182539ff6404"
      },
      "cell_type": "code",
      "source": [
        "print('Training-set accuracy score: {0:0.4f}'. format(accuracy_score(y_train, y_pred_train)))"
      ],
      "execution_count": 35,
      "outputs": [
        {
          "output_type": "stream",
          "name": "stdout",
          "text": [
            "Training-set accuracy score: 1.0000\n"
          ]
        }
      ]
    },
    {
      "metadata": {
        "id": "rWGq0EObw694"
      },
      "cell_type": "markdown",
      "source": [
        "## **Check for Overfitting**\n",
        "## **Comprobar sobreajuste**"
      ]
    },
    {
      "metadata": {
        "trusted": true,
        "colab": {
          "base_uri": "https://localhost:8080/"
        },
        "id": "cUz5vpI1w694",
        "outputId": "530df73c-9cb9-4217-efeb-73eaa026493d"
      },
      "cell_type": "code",
      "source": [
        "# print the scores on training and test set\n",
        "\n",
        "print('Training set score: {:.4f}'.format(clf.score(X_train, y_train)))\n",
        "\n",
        "print('Test set score: {:.4f}'.format(clf.score(X_test, y_test)))"
      ],
      "execution_count": 36,
      "outputs": [
        {
          "output_type": "stream",
          "name": "stdout",
          "text": [
            "Training set score: 1.0000\n",
            "Test set score: 0.9240\n"
          ]
        }
      ]
    },
    {
      "metadata": {
        "id": "wQvRBOGPw695"
      },
      "cell_type": "markdown",
      "source": [
        "\n",
        "- La precisión del conjunto de entrenamiento y prueba es bastante comparable. Por lo tanto, no podemos decir que haya sobreajuste.\n",
        "- La precisión del conjunto de entrenamiento y prueba es bastante comparable. Por lo tanto, no podemos decir que haya sobreajuste."
      ]
    },
    {
      "metadata": {
        "id": "bLGxa3Grw695"
      },
      "cell_type": "markdown",
      "source": [
        "## **Confusion-matrix**\n",
        "##Matriz de confusión"
      ]
    },
    {
      "metadata": {
        "trusted": true,
        "colab": {
          "base_uri": "https://localhost:8080/"
        },
        "id": "BrwHk309w695",
        "outputId": "65db3b77-eb28-4cf5-9107-37cfae9835ef"
      },
      "cell_type": "code",
      "source": [
        "# view confusion-matrix\n",
        "# Print the Confusion Matrix and slice it into four pieces\n",
        "\n",
        "from sklearn.metrics import confusion_matrix\n",
        "cm = confusion_matrix(y_test, y_pred)\n",
        "print('Confusion matrix\\n\\n', cm)\n",
        "print('\\nTrue Positives(TP) = ', cm[0,0])\n",
        "print('\\nTrue Negatives(TN) = ', cm[1,1])\n",
        "print('\\nFalse Positives(FP) = ', cm[0,1])\n",
        "print('\\nFalse Negatives(FN) = ', cm[1,0])"
      ],
      "execution_count": 38,
      "outputs": [
        {
          "output_type": "stream",
          "name": "stdout",
          "text": [
            "Confusion matrix\n",
            "\n",
            " [[ 55   8]\n",
            " [  5 103]]\n",
            "\n",
            "True Positives(TP) =  55\n",
            "\n",
            "True Negatives(TN) =  103\n",
            "\n",
            "False Positives(FP) =  8\n",
            "\n",
            "False Negatives(FN) =  5\n"
          ]
        }
      ]
    },
    {
      "metadata": {
        "trusted": true,
        "colab": {
          "base_uri": "https://localhost:8080/",
          "height": 283
        },
        "id": "8OpovS07w696",
        "outputId": "aec60e62-bea6-4bde-ad99-6865e11e269e"
      },
      "cell_type": "code",
      "source": [
        "# visualize confusion matrix with seaborn heatmap\n",
        "import seaborn as sns # viualizacion estatica de datos\n",
        "\n",
        "\n",
        "cm_matrix_chile = pd.DataFrame(data=cm, columns=['Actual Positive:1', 'Actual Negative:0'], \n",
        "                                 index=['Predict Positive:1', 'Predict Negative:0'])\n",
        "\n",
        "sns.heatmap(cm_matrix_chile, annot=True, fmt='d', cmap='YlGnBu')"
      ],
      "execution_count": 39,
      "outputs": [
        {
          "output_type": "execute_result",
          "data": {
            "text/plain": [
              "<matplotlib.axes._subplots.AxesSubplot at 0x7f7efb1d1290>"
            ]
          },
          "metadata": {},
          "execution_count": 39
        },
        {
          "output_type": "display_data",
          "data": {
            "text/plain": [
              "<Figure size 432x288 with 2 Axes>"
            ],
            "image/png": "[encoded data removed]"
          },
          "metadata": {
            "needs_background": "light"
          }
        }
      ]
    },
    {
      "metadata": {
        "id": "uof8w3zbw697"
      },
      "cell_type": "markdown",
      "source": [
        "## **Métricas de clasificación**\n"
      ]
    },
    {
      "metadata": {
        "trusted": true,
        "colab": {
          "base_uri": "https://localhost:8080/"
        },
        "id": "yKvDCWpCw697",
        "outputId": "1f380346-459a-4c30-ba4e-aaa92bdebd9a"
      },
      "cell_type": "code",
      "source": [
        "from sklearn.metrics import classification_report\n",
        "print(classification_report(y_test, y_pred))"
      ],
      "execution_count": 21,
      "outputs": [
        {
          "output_type": "stream",
          "name": "stdout",
          "text": [
            "              precision    recall  f1-score   support\n",
            "\n",
            "           0       0.92      0.87      0.89        63\n",
            "           1       0.93      0.95      0.94       108\n",
            "\n",
            "    accuracy                           0.92       171\n",
            "   macro avg       0.92      0.91      0.92       171\n",
            "weighted avg       0.92      0.92      0.92       171\n",
            "\n"
          ]
        }
      ]
    },
    {
      "metadata": {
        "id": "cx-t_IW1w697"
      },
      "cell_type": "markdown",
      "source": [
        "# **6. Ajuste de parámetros de LightGBM**  <a class=\"anchor\" id=\"6\"></a>\n",
        "\n",
        "\n",
        "\n",
        "\n",
        "\n",
        "- En esta sección, discutiré algunos consejos para mejorar la eficiencia del modelo LightGBM.\n",
        "\n",
        "- El siguiente conjunto de prácticas se puede utilizar para mejorar la eficiencia de su modelo.\n",
        "\n",
        "  - 1 **num_hojas** : Este es el parámetro principal para controlar la complejidad del modelo de árbol. Idealmente, el valor de num_hojas debería ser menor o igual a 2^(max_ depth). Valor más que esto resultará en sobreajuste.\n",
        "\n",
        "  - 2 **min_data_in_leaf**: configurarlo en un valor grande puede evitar que el árbol crezca demasiado, pero puede provocar un ajuste insuficiente. En la práctica, configurarlo en cientos o miles es suficiente para un gran conjunto de datos.\n",
        "\n",
        "  - 3 **max_ depth**: También podemos usar max_ depth para limitar la profundidad del árbol explícitamente."
      ]
    },
    {
      "metadata": {
        "id": "wnk2PgjZw698"
      },
      "cell_type": "markdown",
      "source": [
        "## **Para mayor velocidad**\n",
        "\n",
        "- Use embolsado configurando `bagging_fraction` y `bagging_freq`.\n",
        "- Use el submuestreo de características configurando `feature_fraction`.\n",
        "- Usa `max_bin` pequeño.\n",
        "- Use `save_binary` para acelerar la carga de datos en futuros aprendizajes."
      ]
    },
    {
      "metadata": {
        "id": "d0spdDXzw698"
      },
      "cell_type": "markdown",
      "source": [
        "## **Para mayor precisión**\n",
        "\n",
        "- Use `max_bin` grande (puede ser más lento).\n",
        "- Use una pequeña `tasa de aprendizaje` con `gran número de iteraciones`\n",
        "- Use `num_leaves` grandes (puede causar un ajuste excesivo)\n",
        "- Usa datos de entrenamiento más grandes\n",
        "- Prueba `dardo`\n",
        "- Intente usar la función categórica directamente."
      ]
    },
    {
      "metadata": {
        "id": "78pUngKsw698"
      },
      "cell_type": "markdown",
      "source": [
        "## **Para lidiar con el ajuste excesivo**\n",
        "\n",
        "- Usa `max_bin` pequeño\n",
        "- Usa `num_hojas` pequeñas\n",
        "- Usa `min_data_in_leaf` y `min_sum_hessian_in_leaf`\n",
        "- Use embolsado por conjunto `bagging_fraction` y `bagging_freq`\n",
        "- Utilice el submuestreo de características mediante el conjunto `feature_fraction`\n",
        "- Usa datos de entrenamiento más grandes\n",
        "- Pruebe `lambda_l1`, `lambda_l2` y `min_gain_to_split` para la regularización\n",
        "- Pruebe `max_ depth` para evitar que crezca un árbol profundo"
      ]
    },
    {
      "metadata": {
        "id": "ywSMb8ygw699"
      },
      "cell_type": "markdown",
      "source": [
        "# **7. References**  <a class=\"anchor\" id=\"7\"></a>\n",
        "\n",
        "\n",
        "##https://github.com/juancuevas-ops/inteligencia-artificial"
      ]
    },
    {
      "metadata": {
        "id": "FuUjw2pbw699"
      },
      "cell_type": "markdown",
      "source": [
        "Ese es el final de este núcleo.\n",
        "\n",
        "Espero que encuentre este núcleo útil y agradable.\n",
        "\n",
        "Sus comentarios y opiniones son bienvenidos.\n",
        "\n",
        "Gracias\n",
        "\n",
        "Actualizado y Ejecutado por Juan Alejandro Cuevas.\n"
      ]
    },
    {
      "metadata": {
        "id": "_vuiGtfDw69-"
      },
      "cell_type": "markdown",
      "source": []
    }
  ],
  "metadata": {
    "kernelspec": {
      "name": "python3",
      "display_name": "Python 3",
      "language": "python"
    },
    "language_info": {
      "name": "python",
      "version": "3.6.6",
      "mimetype": "text/x-python",
      "codemirror_mode": {
        "name": "ipython",
        "version": 3
      },
      "pygments_lexer": "ipython3",
      "nbconvert_exporter": "python",
      "file_extension": ".py"
    },
    "colab": {
      "provenance": [],
      "include_colab_link": true
    }
  },
  "nbformat": 4,
  "nbformat_minor": 0
}