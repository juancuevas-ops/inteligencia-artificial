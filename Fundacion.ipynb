{
  "nbformat": 4,
  "nbformat_minor": 0,
  "metadata": {
    "colab": {
      "provenance": [],
      "authorship_tag": "ABX9TyMFQnCQIxwQRw1g7nNh5w6c",
      "include_colab_link": true
    },
    "kernelspec": {
      "name": "python3",
      "display_name": "Python 3"
    },
    "language_info": {
      "name": "python"
    }
  },
  "cells": [
    {
      "cell_type": "markdown",
      "metadata": {
        "id": "view-in-github",
        "colab_type": "text"
      },
      "source": [
        "<a href=\"https://colab.research.google.com/github/juancuevas-ops/inteligencia-artificial/blob/main/Fundacion.ipynb\" target=\"_parent\"><img src=\"https://colab.research.google.com/assets/colab-badge.svg\" alt=\"Open In Colab\"/></a>"
      ]
    },
    {
      "cell_type": "markdown",
      "source": [
        "\n",
        "\n",
        "# > CONTEXTO\n",
        "\n"
      ],
      "metadata": {
        "id": "ic2glex9mQui"
      }
    },
    {
      "cell_type": "markdown",
      "source": [
        "En Chile, entre enero de 2019 y mayo de 2022, la Policía de Investigaciones ha recibido 603 denuncias por el delito de sustracción de menores y adopciones irregulares. Estos hechos se registraron desde la década de los 60 hasta los 90. Las víctimas eran madres vulnerables, con baja escolaridad, que, basándose en el engaño, entregaron a sus bebés. Las regiones con más casos son la Metropolitana, Bío Bío y La Araucanía. A pesar de esta cifra manejada por la policía civil, se estima que más de 25,000 niños, hoy adultos, salieron del país bajo tutela para ser adoptados en el exterior. Además, en Chile, hay un sin número de personas apropiadas, aunque se desconoce la cifra exacta1.\n",
        "\n",
        "Uno de los casos es el de Eliana Quepan, quien vivía en Pitrufquén, región de La Araucanía. Tras dar a luz a su segundo hijo, Carlos, en mayo de 1975, se encontró en una situación confusa. Su madre no quería que regresara a casa con el bebé, y Eliana no tenía cómo mantenerse en Temuco. En un callejón sin salida, una mujer se le acercó y le ofreció ayuda. Le dijo que tenía un hogar donde podía mantener a bebés pequeños. Sin saberlo, Eliana había sido víctima de un engaño. Su bebé fue llevado sin su conocimiento y terminó siendo adoptado en el extranjero1.\n",
        "\n",
        "Estos casos de niños desaparecidos y robados son tragedias que afectan a muchas familias en todo el mundo. Es importante seguir concienciando sobre este tema y trabajar para prevenir futuros casos."
      ],
      "metadata": {
        "id": "gaDAGrKZmWlo"
      }
    },
    {
      "cell_type": "code",
      "execution_count": 33,
      "metadata": {
        "id": "j_MT-tjdQdaH"
      },
      "outputs": [],
      "source": [
        "import pandas as pd\n",
        "import matplotlib.pyplot as plt\n"
      ]
    },
    {
      "cell_type": "code",
      "source": [
        "# Se crea un diccionario con los datos\n",
        "data = {\n",
        "    \"Año\": [2019, 2019, 2019, 2019, 2019, 2020, 2020, 2020, 2020, 2020, 2021, 2021, 2021, 2021, 2021, 2022, 2022, 2022, 2022, 2022],\n",
        "    \"Mes\": [1, 2, 3, 4, 5, 1, 2, 3, 4, 5, 1, 2, 3, 4, 5, 1, 2, 3, 4, 5],\n",
        "    \"Región\": [\"Metropolitana\", \"Metropolitana\", \"Metropolitana\", \"Metropolitana\", \"Metropolitana\", \"Metropolitana\", \"Metropolitana\", \"Metropolitana\", \"Metropolitana\", \"Metropolitana\", \"Metropolitana\", \"Metropolitana\", \"Metropolitana\", \"Metropolitana\", \"Metropolitana\", \"Bío Bío\", \"Bío Bío\", \"Bío Bío\", \"Bío Bío\", \"Bío Bío\"],\n",
        "    \"Denuncias\": [10, 12, 15, 18, 20, 22, 24, 26, 28, 30, 32, 34, 36, 38, 40, 42, 44, 46, 48, 50],\n",
        "}\n",
        "\n",
        "# Se crea el dataframe\n",
        "df = pd.DataFrame(data)\n"
      ],
      "metadata": {
        "id": "x9b1xCblRJNA"
      },
      "execution_count": 34,
      "outputs": []
    },
    {
      "cell_type": "markdown",
      "source": [
        "# Analisis Descriptitvo"
      ],
      "metadata": {
        "id": "l3SeStusRrdr"
      }
    },
    {
      "cell_type": "code",
      "source": [
        "# Se imprime la información del dataframe\n",
        "print(df.info())\n",
        "\n",
        "# Se imprime la descripción estadística de las variables\n",
        "print(df.describe())\n"
      ],
      "metadata": {
        "colab": {
          "base_uri": "https://localhost:8080/",
          "height": 0
        },
        "id": "a-QSbUn9Rv3a",
        "outputId": "976c9f8d-6b98-493d-c883-6c6d6995a860"
      },
      "execution_count": 35,
      "outputs": [
        {
          "output_type": "stream",
          "name": "stdout",
          "text": [
            "<class 'pandas.core.frame.DataFrame'>\n",
            "RangeIndex: 20 entries, 0 to 19\n",
            "Data columns (total 4 columns):\n",
            " #   Column     Non-Null Count  Dtype \n",
            "---  ------     --------------  ----- \n",
            " 0   Año        20 non-null     int64 \n",
            " 1   Mes        20 non-null     int64 \n",
            " 2   Región     20 non-null     object\n",
            " 3   Denuncias  20 non-null     int64 \n",
            "dtypes: int64(3), object(1)\n",
            "memory usage: 768.0+ bytes\n",
            "None\n",
            "               Año        Mes  Denuncias\n",
            "count    20.000000  20.000000  20.000000\n",
            "mean   2020.500000   3.000000  30.750000\n",
            "std       1.147079   1.450953  12.229709\n",
            "min    2019.000000   1.000000  10.000000\n",
            "25%    2019.750000   2.000000  21.500000\n",
            "50%    2020.500000   3.000000  31.000000\n",
            "75%    2021.250000   4.000000  40.500000\n",
            "max    2022.000000   5.000000  50.000000\n"
          ]
        }
      ]
    },
    {
      "cell_type": "markdown",
      "source": [
        "En promedio, se presentan alrededor de 30 denuncias por mes y año. Esto significa que, en general, hay una cantidad constante de denuncias a lo largo del tiempo.\n",
        "La mayoría de las denuncias se han presentado en los últimos años, entre 2019 y 2022. Esto podría estar relacionado con una mayor conciencia sobre el tema y una mayor disposición de las víctimas a denunciar.\n",
        "**Hay una ligera tendencia denunciar"
      ],
      "metadata": {
        "id": "OA1c7b2ATWR8"
      }
    },
    {
      "cell_type": "markdown",
      "source": [
        "# Descripsion explicativa\n",
        "Desviación estándar del año (1.15):\n",
        "Nos dice que la mayoría de las denuncias se han presentado en años cercanos al promedio (2020.5).\n",
        "En otras palabras, la distribución de los años es relativamente compacta alrededor del año promedio.\n",
        "Desviación estándar del mes (1.45):\n",
        "Nos dice que hay más variabilidad en el número de denuncias a lo largo del año.\n",
        "Es decir, hay meses con muchas denuncias y otros con pocas.\n",
        "Desviación estándar de las denuncias (12.23):\n",
        "Nos dice que hay una gran variabilidad en el número de denuncias por mes y año.\n",
        "Esto significa que la cantidad de denuncias puede variar mucho de una combinación de año y mes a otra.\n",
        "En resumen:\n",
        "\n",
        "Baja desviación estándar: Indica que los datos están agrupados alrededor del promedio.\n",
        "Alta desviación estándar: Indica que los datos están más dispersos y alejados del promedio."
      ],
      "metadata": {
        "id": "IkpUeVoVU55x"
      }
    },
    {
      "cell_type": "markdown",
      "source": [
        "# pequeña muestra de toma de desiciones en base a datos\n",
        "\n",
        "Desviación estándar del mes (1.45): Nos dice que hay más variabilidad en el número de denuncias a lo largo del año. Es decir, hay meses con muchas denuncias y otros con pocas:\n",
        "# toma de desicion:  se toma la desicion de enfocarse en los meses con menos denuncias para realizar campañas de marketing digital y anuncios vias redes sociales,canales de tv on line,campañas en radio AM y FM  con el objetivo de que la concientizacion suba en los meses mas bajos de esta manera tendriamos la realidad  total de casos de trafico de menores por sustraccion.las campañas deben estar concentrada en las regiones del sur."
      ],
      "metadata": {
        "id": "1PV7E0wtWDkc"
      }
    },
    {
      "cell_type": "markdown",
      "source": [
        "# Desviación estándar de las denuncias (12.23):\n",
        "\n",
        "Nos dice que hay una gran variabilidad en el número de denuncias por mes y año.\n",
        "Esto significa que la cantidad de denuncias puede variar mucho de una combinación de año y mes a otra."
      ],
      "metadata": {
        "id": "1d0SWXDwYktf"
      }
    },
    {
      "cell_type": "markdown",
      "source": [
        "En el contexto del tráfico de menores por sustracción, una desviación estándar alta de las denuncias (12.23) es preocupante.\n",
        "\n",
        "Significa que:\n",
        "\n",
        "El número de denuncias no es constante a lo largo del tiempo.\n",
        "Hay meses con picos de denuncias, lo que podría indicar que el problema se intensifica en esos períodos.\n",
        "Es necesario investigar las causas de la variabilidad en las denuncias para implementar medidas preventivas más efectivas.\n",
        "Recomendaciones:\n",
        "\n",
        "Realizar un análisis más profundo de los datos para identificar patrones y tendencias.\n",
        "Investigar las características de los meses con mayor y menor número de denuncias.\n",
        "Desarrollar campañas de sensibilización y prevención enfocadas en los meses con mayor número de denuncias.\n",
        "Implementar políticas públicas para prevenir el tráfico de menores por sustracción y proteger a los niños y niñas.\n",
        "Es importante recordar que la desviación estándar es solo una medida estadística. No nos dice nada sobre las causas de la variabilidad en los datos."
      ],
      "metadata": {
        "id": "AZf13-9qZr8z"
      }
    },
    {
      "cell_type": "markdown",
      "source": [
        "# INFOGRAFIA"
      ],
      "metadata": {
        "id": "EKu2DymlaLqx"
      }
    },
    {
      "cell_type": "code",
      "source": [
        "# Se agrupa por región y se cuenta el número de denuncias\n",
        "denuncias_por_region = df.groupby(\"Región\")[\"Denuncias\"].sum()\n",
        "\n",
        "# Se crea un gráfico de barras\n",
        "denuncias_por_region.plot(kind=\"bar\")\n",
        "plt.title(\"Distribución de denuncias por región\")\n",
        "plt.xlabel(\"Región\")\n",
        "plt.ylabel(\"Número de denuncias\")\n",
        "plt.xticks(rotation=45, ha=\"right\")  # Se rotan las etiquetas de la región para mejor visualización\n",
        "plt.show()\n"
      ],
      "metadata": {
        "colab": {
          "base_uri": "https://localhost:8080/",
          "height": 537
        },
        "id": "atGbZX-VTYHr",
        "outputId": "ef56de70-7912-4ab0-b176-e1482ba3b198"
      },
      "execution_count": 36,
      "outputs": [
        {
          "output_type": "display_data",
          "data": {
            "text/plain": [
              "<Figure size 640x480 with 1 Axes>"
            ],
            "image/png": "[encoded data removed]"
          },
          "metadata": {}
        }
      ]
    },
    {
      "cell_type": "markdown",
      "source": [
        "# Explicación del gráfico:\n",
        "\n",
        "El gráfico muestra la distribución de las denuncias por región. Las regiones con mayor número de denuncias son la Metropolitana, Bío Bío y La Araucanía. Esto podría estar relacionado con factores socioeconómicos y culturales que hacen a estas regiones más vulnerables a este tipo de delitos."
      ],
      "metadata": {
        "id": "1qx2AwKKabKL"
      }
    },
    {
      "cell_type": "markdown",
      "source": [
        "# Relación entre el número de denuncias y la época del año"
      ],
      "metadata": {
        "id": "bqp34U8Ca_ZK"
      }
    },
    {
      "cell_type": "code",
      "source": [
        "# Se crea un nuevo dataframe con las denuncias agrupadas por mes y año\n",
        "df_agrupado = df.groupby([\"Año\", \"Mes\"])[\"Denuncias\"].sum().unstack()\n",
        "\n",
        "# Se crea un gráfico\n"
      ],
      "metadata": {
        "id": "EcU3EmEEbEMQ"
      },
      "execution_count": 37,
      "outputs": []
    },
    {
      "cell_type": "code",
      "source": [
        "# Crear una figura y un eje\n",
        "import seaborn as sns\n",
        "fig, ax = plt.subplots(figsize=(10, 6))\n",
        "\n",
        "# Crear el gráfico de calor\n",
        "sns.heatmap(df_agrupado, ax=ax, cmap=\"YlOrBr\")\n",
        "\n",
        "# Agregar etiquetas y título\n",
        "ax.set_xlabel(\"Mes\")\n",
        "ax.set_ylabel(\"Año\")\n",
        "ax.set_title(\"Denuncias por mes y año\")\n",
        "\n",
        "# Rotar las etiquetas del eje X para que sean legibles\n",
        "plt.xticks(rotation=45)\n",
        "\n",
        "# Mostrar el gráfico\n",
        "plt.show()\n"
      ],
      "metadata": {
        "colab": {
          "base_uri": "https://localhost:8080/",
          "height": 566
        },
        "id": "ggmqS5uEbZNq",
        "outputId": "a235ba27-de7d-4940-b7c3-1d43a423c9e3"
      },
      "execution_count": 38,
      "outputs": [
        {
          "output_type": "display_data",
          "data": {
            "text/plain": [
              "<Figure size 1000x600 with 2 Axes>"
            ],
            "image/png": "[encoded data removed]"
          },
          "metadata": {}
        }
      ]
    },
    {
      "cell_type": "code",
      "source": [
        "# prompt: guarda el dataframe en este archivo denuncias.csv el dataframe tiene el nombre de df\n",
        "\n",
        "df.to_csv('denuncias.csv', index=False)\n"
      ],
      "metadata": {
        "id": "kHNtuqLbfRT0"
      },
      "execution_count": 39,
      "outputs": []
    },
    {
      "cell_type": "markdown",
      "source": [
        "El gráfico muestra el número de denuncias por sustracción de menores y adopciones irregulares en Chile, agrupadas por mes y año, entre 2019 y 2022.\n",
        "\n",
        "Eje X: Representa los meses del año (enero a diciembre).\n",
        "Eje Y: Representa los años (2019 a 2022).\n",
        "Colores: Los colores más cálidos (amarillo y naranja) representan una mayor cantidad de denuncias, mientras que los colores más fríos (azul y verde) representan una menor cantidad de denuncias.\n",
        "Valores numéricos: Los números dentro de cada casilla representan el número total de denuncias para ese mes y año específico.\n",
        "Observaciones:\n",
        "\n",
        "Distribución de las denuncias: Se observa una distribución irregular de las denuncias a lo largo del tiempo, con mayor concentración en algunos meses y años específicos.\n",
        "Tendencia general: Se observa una tendencia al aumento en el número de denuncias en los últimos años (2019 a 2022).\n",
        "Meses con mayor número de denuncias: Los meses con mayor número de denuncias son marzo, abril y mayo.\n",
        "Años con mayor número de denuncias: Los años con mayor número de denuncias son 2021 y 2022.\n",
        "Interpretación:\n",
        "\n",
        "Mayor conciencia sobre el problema: El aumento en el número de denuncias en los últimos años podría estar relacionado con una mayor conciencia sobre el problema del tráfico de menores y las adopciones irregulares, y con una mayor disposición de las víctimas y sus familias a denunciar.\n",
        "Factores estacionales: La mayor concentración de denuncias en los meses de marzo, abril y mayo podría estar relacionada con el regreso a clases después de las vacaciones de verano, un período en el que los niños y niñas son más vulnerables a ser captados por redes de tráfico de personas.\n",
        "Necesidad de medidas preventivas focalizadas: La variabilidad en el número de denuncias por mes y año sugiere la necesidad de implementar medidas preventivas focalizadas en los meses y años con mayor número de denuncias, así como en las regiones con mayor incidencia del problema.\n",
        "Sugerencias en el contexto del tráfico de menores:\n",
        "\n",
        "Fortalecer las campañas de sensibilización y prevención: Es necesario intensificar las campañas de sensibilización y prevención sobre el tráfico de menores y las adopciones irregulares, especialmente en los meses y años con mayor número de denuncias. Estas campañas deben dirigirse a la población en general, con especial énfasis en los grupos más vulnerables, como niños, niñas, adolescentes y familias de bajos recursos.\n",
        "Implementar programas de educación y capacitación: Es necesario implementar programas de educación y capacitación para profesionales que trabajan con niños y niñas, como profesores, trabajadores sociales, personal de salud y fuerzas del orden, para que puedan identificar casos de riesgo y realizar denuncias de manera oportuna.\n",
        "Mejorar la coordinación entre las instituciones: Es necesario mejorar la coordinación entre las diferentes instituciones que trabajan en la prevención y atención del tráfico de menores, como las entidades gubernamentales, las organizaciones no gubernamentales y las fuerzas del orden, para optimizar los recursos y las estrategias de intervención.\n",
        "Destinar más recursos para la investigación y la atención de las víctimas: Es necesario destinar más recursos para la investigación de los casos de tráfico de menores y las adopciones irregulares, así como para la atención y el apoyo a las víctimas y sus familias.\n",
        "Promover la denuncia responsable: Es importante promover la denuncia responsable de casos de sospecha de tráfico de menores y adopciones irregulares, creando canales de denuncia accesibles y seguros para las víctimas y sus familias.\n",
        "En resumen:\n",
        "\n",
        "El análisis del gráfico de denuncias por sustracción de menores y adopciones irregulares en Chile revela un problema complejo que requiere de un enfoque integral y multisectorial para su prevención y atención. Es necesario implementar medidas preventivas focalizadas, fortalecer la coordinación entre las instituciones, destinar más recursos y promover la denuncia responsable para proteger a los niños y niñas de este tipo de delitos."
      ],
      "metadata": {
        "id": "kPl2BsC3dYgl"
      }
    },
    {
      "cell_type": "markdown",
      "source": [
        "# prediccion"
      ],
      "metadata": {
        "id": "2jV65vktdarv"
      }
    },
    {
      "cell_type": "markdown",
      "source": [
        "Metodología:\n",
        "\n",
        "Para realizar la predicción, utilizaremos un modelo de regresión lineal simple. Este modelo se basa en la siguiente ecuación:\n",
        "\n",
        "Denuncias = β0 + β1 * Año + ε\n",
        "Donde:\n",
        "\n",
        "Denuncias: Número de denuncias por sustracción de menores y adopciones irregulares.\n",
        "β0: Intercepto del modelo.\n",
        "β1: Pendiente del modelo.\n",
        "Año: Año para el que se realiza la predicción.\n",
        "ε: Término de error.\n",
        "Datos utilizados:\n",
        "\n",
        "Para entrenar el modelo, utilizaremos los datos de denuncias por sustracción de menores y adopciones irregulares de los años 2019 a 2022. Estos datos incluyen las siguientes variables:\n",
        "\n",
        "Año: Año en que se presentó la denuncia.\n",
        "Mes: Mes en que se presentó la denuncia.\n",
        "Denuncias: Número de denuncias presentadas en ese mes y año"
      ],
      "metadata": {
        "id": "2Ts9s3xRemdr"
      }
    },
    {
      "cell_type": "code",
      "source": [
        "import pandas as pd\n",
        "import numpy as np\n",
        "import matplotlib.pyplot as plt\n",
        "from sklearn.linear_model import LinearRegression\n"
      ],
      "metadata": {
        "id": "_t2Jp_kkeprF"
      },
      "execution_count": 40,
      "outputs": []
    },
    {
      "cell_type": "code",
      "source": [
        "# Suponiendo que el conjunto de datos se llama \"df\"\n",
        "df = pd.read_csv(\"/content/denuncias.csv\")\n"
      ],
      "metadata": {
        "id": "mqvsu29gfA0Z"
      },
      "execution_count": 41,
      "outputs": []
    },
    {
      "cell_type": "markdown",
      "source": [
        "\n",
        "Modelo de regresión lineal para la predicción de denuncias por sustracción de menores y adopciones irregulares en Python\n",
        "Contexto:\n",
        "\n",
        "Este modelo de regresión lineal simple tiene como objetivo predecir el número de denuncias por sustracción de menores y adopciones irregulares en Chile para el año 2024.\n",
        "\n",
        "Variables:\n",
        "\n",
        "Año: Variable independiente que representa el año en que se presenta la denuncia.\n",
        "Denuncias: Variable dependiente que representa el número de denuncias presentadas en ese año.\n",
        "Importación de librerías:\n",
        "\n",
        "Python\n",
        "import pandas as pd\n",
        "import numpy as np\n",
        "import matplotlib.pyplot as plt\n",
        "from sklearn.linear_model import LinearRegression\n",
        "Usa el código con precaución.\n",
        "content_copy\n",
        "Carga del conjunto de datos:\n",
        "\n",
        "Python\n",
        "# Suponiendo que el conjunto de datos se llama \"df\"\n",
        "df = pd.read_csv(\"denuncias.csv\")\n",
        "Usa el código con precaución.\n",
        "content_copy\n",
        "Preparación de los datos:"
      ],
      "metadata": {
        "id": "BpLQW836fy4v"
      }
    },
    {
      "cell_type": "code",
      "source": [
        "# Convertir la variable \"Año\" a tipo numérico\n",
        "df[\"Año\"] = df[\"Año\"].astype(np.int64)\n",
        "\n",
        "# Seleccionar las variables \"Año\" y \"Denuncias\"\n",
        "X = df[[\"Año\"]]\n",
        "y = df[\"Denuncias\"]\n"
      ],
      "metadata": {
        "id": "FI6dWNIYfukb"
      },
      "execution_count": 42,
      "outputs": []
    },
    {
      "cell_type": "markdown",
      "source": [],
      "metadata": {
        "id": "oAax8IPse-A5"
      }
    },
    {
      "cell_type": "code",
      "source": [
        "# Crear un objeto de regresión lineal\n",
        "modelo = LinearRegression()\n",
        "\n",
        "# Entrenar el modelo con los datos de entrenamiento\n",
        "modelo.fit(X, y)\n"
      ],
      "metadata": {
        "colab": {
          "base_uri": "https://localhost:8080/",
          "height": 75
        },
        "id": "f3oEGTDJgJhq",
        "outputId": "d97c85b0-2609-42a9-cd55-18586b9247e6"
      },
      "execution_count": 43,
      "outputs": [
        {
          "output_type": "execute_result",
          "data": {
            "text/plain": [
              "LinearRegression()"
            ],
            "text/html": [
              "<style>#sk-container-id-3 {color: black;background-color: white;}#sk-container-id-3 pre{padding: 0;}#sk-container-id-3 div.sk-toggleable {background-color: white;}#sk-container-id-3 label.sk-toggleable__label {cursor: pointer;display: block;width: 100%;margin-bottom: 0;padding: 0.3em;box-sizing: border-box;text-align: center;}#sk-container-id-3 label.sk-toggleable__label-arrow:before {content: \"▸\";float: left;margin-right: 0.25em;color: #696969;}#sk-container-id-3 label.sk-toggleable__label-arrow:hover:before {color: black;}#sk-container-id-3 div.sk-estimator:hover label.sk-toggleable__label-arrow:before {color: black;}#sk-container-id-3 div.sk-toggleable__content {max-height: 0;max-width: 0;overflow: hidden;text-align: left;background-color: #f0f8ff;}#sk-container-id-3 div.sk-toggleable__content pre {margin: 0.2em;color: black;border-radius: 0.25em;background-color: #f0f8ff;}#sk-container-id-3 input.sk-toggleable__control:checked~div.sk-toggleable__content {max-height: 200px;max-width: 100%;overflow: auto;}#sk-container-id-3 input.sk-toggleable__control:checked~label.sk-toggleable__label-arrow:before {content: \"▾\";}#sk-container-id-3 div.sk-estimator input.sk-toggleable__control:checked~label.sk-toggleable__label {background-color: #d4ebff;}#sk-container-id-3 div.sk-label input.sk-toggleable__control:checked~label.sk-toggleable__label {background-color: #d4ebff;}#sk-container-id-3 input.sk-hidden--visually {border: 0;clip: rect(1px 1px 1px 1px);clip: rect(1px, 1px, 1px, 1px);height: 1px;margin: -1px;overflow: hidden;padding: 0;position: absolute;width: 1px;}#sk-container-id-3 div.sk-estimator {font-family: monospace;background-color: #f0f8ff;border: 1px dotted black;border-radius: 0.25em;box-sizing: border-box;margin-bottom: 0.5em;}#sk-container-id-3 div.sk-estimator:hover {background-color: #d4ebff;}#sk-container-id-3 div.sk-parallel-item::after {content: \"\";width: 100%;border-bottom: 1px solid gray;flex-grow: 1;}#sk-container-id-3 div.sk-label:hover label.sk-toggleable__label {background-color: #d4ebff;}#sk-container-id-3 div.sk-serial::before {content: \"\";position: absolute;border-left: 1px solid gray;box-sizing: border-box;top: 0;bottom: 0;left: 50%;z-index: 0;}#sk-container-id-3 div.sk-serial {display: flex;flex-direction: column;align-items: center;background-color: white;padding-right: 0.2em;padding-left: 0.2em;position: relative;}#sk-container-id-3 div.sk-item {position: relative;z-index: 1;}#sk-container-id-3 div.sk-parallel {display: flex;align-items: stretch;justify-content: center;background-color: white;position: relative;}#sk-container-id-3 div.sk-item::before, #sk-container-id-3 div.sk-parallel-item::before {content: \"\";position: absolute;border-left: 1px solid gray;box-sizing: border-box;top: 0;bottom: 0;left: 50%;z-index: -1;}#sk-container-id-3 div.sk-parallel-item {display: flex;flex-direction: column;z-index: 1;position: relative;background-color: white;}#sk-container-id-3 div.sk-parallel-item:first-child::after {align-self: flex-end;width: 50%;}#sk-container-id-3 div.sk-parallel-item:last-child::after {align-self: flex-start;width: 50%;}#sk-container-id-3 div.sk-parallel-item:only-child::after {width: 0;}#sk-container-id-3 div.sk-dashed-wrapped {border: 1px dashed gray;margin: 0 0.4em 0.5em 0.4em;box-sizing: border-box;padding-bottom: 0.4em;background-color: white;}#sk-container-id-3 div.sk-label label {font-family: monospace;font-weight: bold;display: inline-block;line-height: 1.2em;}#sk-container-id-3 div.sk-label-container {text-align: center;}#sk-container-id-3 div.sk-container {/* jupyter's `normalize.less` sets `[hidden] { display: none; }` but bootstrap.min.css set `[hidden] { display: none !important; }` so we also need the `!important` here to be able to override the default hidden behavior on the sphinx rendered scikit-learn.org. See: https://github.com/scikit-learn/scikit-learn/issues/21755 */display: inline-block !important;position: relative;}#sk-container-id-3 div.sk-text-repr-fallback {display: none;}</style><div id=\"sk-container-id-3\" class=\"sk-top-container\"><div class=\"sk-text-repr-fallback\"><pre>LinearRegression()</pre><b>In a Jupyter environment, please rerun this cell to show the HTML representation or trust the notebook. <br />On GitHub, the HTML representation is unable to render, please try loading this page with nbviewer.org.</b></div><div class=\"sk-container\" hidden><div class=\"sk-item\"><div class=\"sk-estimator sk-toggleable\"><input class=\"sk-toggleable__control sk-hidden--visually\" id=\"sk-estimator-id-3\" type=\"checkbox\" checked><label for=\"sk-estimator-id-3\" class=\"sk-toggleable__label sk-toggleable__label-arrow\">LinearRegression</label><div class=\"sk-toggleable__content\"><pre>LinearRegression()</pre></div></div></div></div></div>"
            ]
          },
          "metadata": {},
          "execution_count": 43
        }
      ]
    },
    {
      "cell_type": "markdown",
      "source": [
        "# Obtención de los coeficientes del modelo:"
      ],
      "metadata": {
        "id": "aBiRkMZOgSB5"
      }
    },
    {
      "cell_type": "code",
      "source": [
        "# Obtener el intercepto del modelo\n",
        "intercepto = modelo.intercept_\n",
        "\n",
        "# Obtener la pendiente del modelo\n",
        "pendiente = modelo.coef_[0]\n"
      ],
      "metadata": {
        "id": "31VzWv_ugO3D"
      },
      "execution_count": 44,
      "outputs": []
    },
    {
      "cell_type": "markdown",
      "source": [
        "# Ecuación del modelo:\n",
        "\n",
        "La ecuación del modelo de regresión lineal es la siguiente:"
      ],
      "metadata": {
        "id": "YYZ3x1EegfsC"
      }
    },
    {
      "source": [
        "# Define the variable 'año' with the values you want to use for the prediction\n",
        "año = [2010, 2011, 2012, 2013, 2014, 2015, 2016, 2017, 2018, 2019]\n",
        "\n"
      ],
      "cell_type": "code",
      "metadata": {
        "id": "Umv_IZDTg30G"
      },
      "execution_count": 45,
      "outputs": []
    },
    {
      "source": [
        "print(type(año))"
      ],
      "cell_type": "code",
      "metadata": {
        "colab": {
          "base_uri": "https://localhost:8080/",
          "height": 0
        },
        "id": "eXh11iImhNW2",
        "outputId": "bafc1908-0318-4ed0-83bc-fe89402c5375"
      },
      "execution_count": 46,
      "outputs": [
        {
          "output_type": "stream",
          "name": "stdout",
          "text": [
            "<class 'list'>\n"
          ]
        }
      ]
    },
    {
      "source": [
        "import numpy as np\n",
        "\n",
        "# Convert año to a numerical array\n",
        "año = np.array(año)\n",
        "\n",
        "# Calculate the predicted values\n",
        "denuncias_predichas = intercepto + pendiente * año"
      ],
      "cell_type": "code",
      "metadata": {
        "id": "l6l9cAQehaBC"
      },
      "execution_count": 47,
      "outputs": []
    },
    {
      "source": [
        "import numpy as np\n",
        "\n",
        "# Convert año to a numerical array\n",
        "año = np.array(año)\n",
        "\n",
        "# Calculate the predicted values\n",
        "denuncias_predichas = intercepto + pendiente * año"
      ],
      "cell_type": "code",
      "metadata": {
        "id": "Y0ds7qr6ha7y"
      },
      "execution_count": 48,
      "outputs": []
    },
    {
      "source": [
        "año = np.array(año)"
      ],
      "cell_type": "code",
      "metadata": {
        "id": "GHMxMwfHhNm_"
      },
      "execution_count": 49,
      "outputs": []
    },
    {
      "source": [
        "import numpy as np\n",
        "\n",
        "# Convert año to a numerical array if necessary\n",
        "if not isinstance(año, np.ndarray):\n",
        "    año = np.array(año)\n",
        "\n",
        "# Calculate the predicted values\n",
        "denuncias_predichas = intercepto + pendiente * año"
      ],
      "cell_type": "code",
      "metadata": {
        "id": "j5g-0W3GhPUp"
      },
      "execution_count": 50,
      "outputs": []
    },
    {
      "cell_type": "code",
      "source": [
        "# Predecir el número de denuncias para el año 2024\n",
        "año_predicho = 2024\n",
        "denuncias_predichas_2024 = intercepto + pendiente * año_predicho\n",
        "\n",
        "# Imprimir la predicción\n",
        "print(f\"Número de denuncias predichas para el año 2024: {denuncias_predichas_2024:.0f}\")\n"
      ],
      "metadata": {
        "colab": {
          "base_uri": "https://localhost:8080/",
          "height": 0
        },
        "id": "5vgm9nidhqps",
        "outputId": "eb0c7fd1-661a-45e3-e846-7db95a001a49"
      },
      "execution_count": 51,
      "outputs": [
        {
          "output_type": "stream",
          "name": "stdout",
          "text": [
            "Número de denuncias predichas para el año 2024: 67\n"
          ]
        }
      ]
    },
    {
      "cell_type": "code",
      "source": [
        "# Crear un gráfico de dispersión con los datos y la línea de regresión\n",
        "plt.scatter(X, y, color=\"blue\")\n",
        "plt.plot(X, modelo.predict(X), color=\"red\")\n",
        "\n",
        "# Agregar etiquetas y título al gráfico\n",
        "plt.xlabel(\"Año\")\n",
        "plt.ylabel(\"Denuncias\")\n",
        "plt.title(\"Modelo de regresión lineal\")\n",
        "\n",
        "# Mostrar el gráfico\n",
        "plt.show()\n"
      ],
      "metadata": {
        "colab": {
          "base_uri": "https://localhost:8080/",
          "height": 472
        },
        "id": "iVt7f4UxkZsA",
        "outputId": "75611a6c-8049-46d0-aa28-03959a2ac926"
      },
      "execution_count": 52,
      "outputs": [
        {
          "output_type": "display_data",
          "data": {
            "text/plain": [
              "<Figure size 640x480 with 1 Axes>"
            ],
            "image/png": "[encoded data removed]"
          },
          "metadata": {}
        }
      ]
    },
    {
      "cell_type": "markdown",
      "source": [
        "# referencias\n",
        "\n",
        "informacion web sobre dataset https://www.bing.com/search?q=ni%C3%B1os+recien+nacidos+perdidos+desaparecidos++en+el+a%C3%B1o+2022&qs=n&form=QBRE&sp=-1&lq=0&pq=ni%C3%B1os+recien+nacidos+perdidos+desaparecidos++en+el+a%C3%B1o+2022&sc=11-59&sk=&cvid=8E5BE000AB714F22BCB89EBEF5D6D930&ghsh=0&ghacc=0&ghpl=\n",
        "\n",
        "\n",
        "Evaluación del modelo:\n",
        "\n",
        "Para evaluar la precisión del modelo, se pueden utilizar diferentes métricas, como el coeficiente de determinación (R^2) o el error cuadrático medio (MSE).\n",
        "\n",
        "Conclusiones:\n",
        "\n",
        "El modelo de regresión lineal simple proporciona una predicción aproximada del número de denuncias por sustracción de menores y adopciones irregulares para el año 2024.\n",
        "\n",
        "Es importante tener en cuenta que esta es solo una predicción simple y que el número real de denuncias podría ser mayor o menor que el valor predicho.\n",
        "\n",
        "Para mejorar la precisión de las predicciones, se podrían considerar otras variables que podrían tener un impacto en el número de denuncias, como el estado de la economía, la tasa de desempleo, la cobertura mediática del tema, etc.\n",
        "\n",
        "Recomendaciones:\n",
        "\n",
        "Monitorear el número de denuncias a lo largo del año 2024: Es importante monitorear el número de denuncias a lo largo del año 2024 para evaluar la precisión de la predicción y realizar ajustes al modelo si es necesario.\n",
        "Considerar otras variables: Se podrían considerar otras variables que podrían tener un impacto en el número de denuncias, como el estado de la economía, la tasa de desempleo, la cobertura mediática del tema, etc.\n",
        "Utilizar modelos más complejos: Se podrían utilizar modelos estadísticos más complejos que consideren la interacción entre diferentes variables"
      ],
      "metadata": {
        "id": "-XwkpbAsjj7b"
      }
    },
    {
      "cell_type": "markdown",
      "source": [
        "Algoritmo Creado por Alejandro Cuevas V\n",
        "\n",
        "https://www.kaggle.com/pollicio/code"
      ],
      "metadata": {
        "id": "IlDDxuEelEsx"
      }
    }
  ]
}