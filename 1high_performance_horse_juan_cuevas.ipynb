{
  "cells": [
    {
      "cell_type": "markdown",
      "metadata": {
        "id": "view-in-github",
        "colab_type": "text"
      },
      "source": [
        "<a href=\"https://colab.research.google.com/github/juancuevas-ops/inteligencia-artificial/blob/main/1high_performance_horse_juan_cuevas.ipynb\" target=\"_parent\"><img src=\"https://colab.research.google.com/assets/colab-badge.svg\" alt=\"Open In Colab\"/></a>"
      ]
    },
    {
      "cell_type": "code",
      "execution_count": null,
      "id": "51dbe15d",
      "metadata": {
        "_cell_guid": "b1076dfc-b9ad-4769-8c92-a6c4dae69d19",
        "_uuid": "8f2839f25d086af736a60e9eeb907d3b93b6e0e5",
        "execution": {
          "iopub.execute_input": "2022-08-26T02:39:16.354833Z",
          "iopub.status.busy": "2022-08-26T02:39:16.354362Z",
          "iopub.status.idle": "2022-08-26T02:39:16.383724Z",
          "shell.execute_reply": "2022-08-26T02:39:16.382813Z"
        },
        "papermill": {
          "duration": 0.042432,
          "end_time": "2022-08-26T02:39:16.386660",
          "exception": false,
          "start_time": "2022-08-26T02:39:16.344228",
          "status": "completed"
        },
        "tags": [],
        "id": "51dbe15d",
        "outputId": "803664c8-7cf7-4ff0-d0b1-47b6df280087"
      },
      "outputs": [
        {
          "name": "stdout",
          "output_type": "stream",
          "text": [
            "/kaggle/input/horse-after-of-competition-adn/adn_hourse_after_of_competition.fasta\n",
            "/kaggle/input/adn-hourse-cientificojuancuevasv/adn_hourse.fasta\n",
            "/kaggle/input/adn-hourse-competition-cientificojuancuevasvasquez/gene.fna\n",
            "/kaggle/input/get-started-mar-tabular-playground-competition/random_forest.csv\n",
            "/kaggle/input/get-started-mar-tabular-playground-competition/__results__.html\n",
            "/kaggle/input/get-started-mar-tabular-playground-competition/__notebook__.ipynb\n",
            "/kaggle/input/get-started-mar-tabular-playground-competition/__output__.json\n",
            "/kaggle/input/get-started-mar-tabular-playground-competition/custom.css\n",
            "/kaggle/input/big-data-derby-2022/nyra_tracking_table.csv\n",
            "/kaggle/input/big-data-derby-2022/nyra_start_table.csv\n",
            "/kaggle/input/big-data-derby-2022/nyra_race_table.csv\n",
            "/kaggle/input/big-data-derby-2022/nyra_2019_complete.csv\n"
          ]
        }
      ],
      "source": [
        "# This Python 3 environment comes with many helpful analytics libraries installed\n",
        "# It is defined by the kaggle/python Docker image: https://github.com/kaggle/docker-python\n",
        "# For example, here's several helpful packages to load\n",
        "\n",
        "import numpy as np # linear algebra\n",
        "import pandas as pd # data processing, CSV file I/O (e.g. pd.read_csv)\n",
        "\n",
        "# Input data files are available in the read-only \"../input/\" directory\n",
        "# For example, running this (by clicking run or pressing Shift+Enter) will list all files under the input directory\n",
        "\n",
        "import os\n",
        "for dirname, _, filenames in os.walk('/kaggle/input'):\n",
        "    for filename in filenames:\n",
        "        print(os.path.join(dirname, filename))\n",
        "\n",
        "# You can write up to 20GB to the current directory (/kaggle/working/) that gets preserved as output when you create a version using \"Save & Run All\" \n",
        "# You can also write temporary files to /kaggle/temp/, but they won't be saved outside of the current session"
      ]
    },
    {
      "cell_type": "markdown",
      "id": "784b7db9",
      "metadata": {
        "papermill": {
          "duration": 0.006972,
          "end_time": "2022-08-26T02:39:16.402870",
          "exception": false,
          "start_time": "2022-08-26T02:39:16.395898",
          "status": "completed"
        },
        "tags": [],
        "id": "784b7db9"
      },
      "source": [
        "quiero comenzar esta investigacion agradeciendo a kaggle por capacitarme en vision computer y por el acceso a su plataforma gracias kaggle"
      ]
    },
    {
      "cell_type": "markdown",
      "id": "4afd3470",
      "metadata": {
        "papermill": {
          "duration": 0.006821,
          "end_time": "2022-08-26T02:39:16.417008",
          "exception": false,
          "start_time": "2022-08-26T02:39:16.410187",
          "status": "completed"
        },
        "tags": [],
        "id": "4afd3470"
      },
      "source": [
        "tratare esta investigacion dando una solucion de fondo dido a que mi teoria es que el rendimiento de un caballo en los ultimos metros de competencia no tiene relacion con variables externas si no de tipo fisiologicas de tipo endogenas osea a nivel celular...... manos a la obra¡¡¡¡¡"
      ]
    },
    {
      "cell_type": "code",
      "execution_count": null,
      "id": "a02affa8",
      "metadata": {
        "execution": {
          "iopub.execute_input": "2022-08-26T02:39:16.433451Z",
          "iopub.status.busy": "2022-08-26T02:39:16.432826Z",
          "iopub.status.idle": "2022-08-26T02:39:31.256660Z",
          "shell.execute_reply": "2022-08-26T02:39:31.255233Z"
        },
        "papermill": {
          "duration": 14.835217,
          "end_time": "2022-08-26T02:39:31.259416",
          "exception": false,
          "start_time": "2022-08-26T02:39:16.424199",
          "status": "completed"
        },
        "tags": [],
        "id": "a02affa8",
        "outputId": "9606e153-3022-4a7d-b304-2fa88324547b"
      },
      "outputs": [
        {
          "name": "stdout",
          "output_type": "stream",
          "text": [
            "Collecting Bio\r\n",
            "  Downloading bio-1.4.0-py3-none-any.whl (270 kB)\r\n",
            "\u001b[K     |████████████████████████████████| 270 kB 281 kB/s \r\n",
            "\u001b[?25hCollecting mygene\r\n",
            "  Downloading mygene-3.2.2-py2.py3-none-any.whl (5.4 kB)\r\n",
            "Requirement already satisfied: requests in /usr/lib/python3/dist-packages (from Bio) (2.22.0)\r\n",
            "Collecting tqdm\r\n",
            "  Downloading tqdm-4.64.0-py2.py3-none-any.whl (78 kB)\r\n",
            "\u001b[K     |████████████████████████████████| 78 kB 2.2 MB/s \r\n",
            "\u001b[?25hCollecting biopython>=1.79\r\n",
            "  Downloading biopython-1.79-cp38-cp38-manylinux_2_5_x86_64.manylinux1_x86_64.whl (2.3 MB)\r\n",
            "\u001b[K     |████████████████████████████████| 2.3 MB 3.3 MB/s \r\n",
            "\u001b[?25hCollecting biothings-client>=0.2.6\r\n",
            "  Downloading biothings_client-0.2.6-py2.py3-none-any.whl (37 kB)\r\n",
            "Collecting numpy\r\n",
            "  Downloading numpy-1.23.2-cp38-cp38-manylinux_2_17_x86_64.manylinux2014_x86_64.whl (17.1 MB)\r\n",
            "\u001b[K     |████████████████████████████████| 17.1 MB 752 kB/s \r\n",
            "\u001b[?25hInstalling collected packages: biothings-client, mygene, tqdm, numpy, biopython, Bio\r\n",
            "Successfully installed Bio-1.4.0 biopython-1.79 biothings-client-0.2.6 mygene-3.2.2 numpy-1.23.2 tqdm-4.64.0\r\n"
          ]
        }
      ],
      "source": [
        "!sudo pip install Bio"
      ]
    },
    {
      "cell_type": "code",
      "execution_count": null,
      "id": "99b8c2f8",
      "metadata": {
        "execution": {
          "iopub.execute_input": "2022-08-26T02:39:31.289373Z",
          "iopub.status.busy": "2022-08-26T02:39:31.288652Z",
          "iopub.status.idle": "2022-08-26T02:39:31.413417Z",
          "shell.execute_reply": "2022-08-26T02:39:31.412181Z"
        },
        "papermill": {
          "duration": 0.143004,
          "end_time": "2022-08-26T02:39:31.416534",
          "exception": false,
          "start_time": "2022-08-26T02:39:31.273530",
          "status": "completed"
        },
        "tags": [],
        "id": "99b8c2f8"
      },
      "outputs": [],
      "source": [
        "from Bio.Seq import Seq\n",
        "from Bio import SeqIO"
      ]
    },
    {
      "cell_type": "code",
      "execution_count": null,
      "id": "1ce1b8bd",
      "metadata": {
        "execution": {
          "iopub.execute_input": "2022-08-26T02:39:31.445164Z",
          "iopub.status.busy": "2022-08-26T02:39:31.444763Z",
          "iopub.status.idle": "2022-08-26T02:39:31.473279Z",
          "shell.execute_reply": "2022-08-26T02:39:31.472407Z"
        },
        "papermill": {
          "duration": 0.045595,
          "end_time": "2022-08-26T02:39:31.475857",
          "exception": false,
          "start_time": "2022-08-26T02:39:31.430262",
          "status": "completed"
        },
        "tags": [],
        "id": "1ce1b8bd"
      },
      "outputs": [],
      "source": [
        "adn_hourse = SeqIO.read(\"../input/adn-hourse-cientificojuancuevasv/adn_hourse.fasta\",\"fasta\")"
      ]
    },
    {
      "cell_type": "markdown",
      "id": "398b8561",
      "metadata": {
        "papermill": {
          "duration": 0.013662,
          "end_time": "2022-08-26T02:39:31.503196",
          "exception": false,
          "start_time": "2022-08-26T02:39:31.489534",
          "status": "completed"
        },
        "tags": [],
        "id": "398b8561"
      },
      "source": [
        "**CABALLO EN ESTADO DE REPOSO**"
      ]
    },
    {
      "cell_type": "code",
      "execution_count": null,
      "id": "2966ff82",
      "metadata": {
        "execution": {
          "iopub.execute_input": "2022-08-26T02:39:31.531334Z",
          "iopub.status.busy": "2022-08-26T02:39:31.530659Z",
          "iopub.status.idle": "2022-08-26T02:39:31.539691Z",
          "shell.execute_reply": "2022-08-26T02:39:31.538623Z"
        },
        "papermill": {
          "duration": 0.026126,
          "end_time": "2022-08-26T02:39:31.542201",
          "exception": false,
          "start_time": "2022-08-26T02:39:31.516075",
          "status": "completed"
        },
        "tags": [],
        "id": "2966ff82",
        "outputId": "549f9a08-ec76-4edf-9115-eeaaaff20601"
      },
      "outputs": [
        {
          "data": {
            "text/plain": [
              "SeqRecord(seq=Seq('CCCCACCCCAGGAAAGTAGTGAGACCCATGGCGAGCGCTGGGCAGGAAGGCCCT...TCA'), id='NC_009147.3:102768699-102775917', name='NC_009147.3:102768699-102775917', description='NC_009147.3:102768699-102775917 ASIC3 [organism=Equus caballus] [GeneID=100063408] [chromosome=4]', dbxrefs=[])"
            ]
          },
          "execution_count": 5,
          "metadata": {},
          "output_type": "execute_result"
        }
      ],
      "source": [
        "adn_hourse"
      ]
    },
    {
      "cell_type": "code",
      "execution_count": null,
      "id": "f5152756",
      "metadata": {
        "execution": {
          "iopub.execute_input": "2022-08-26T02:39:31.570341Z",
          "iopub.status.busy": "2022-08-26T02:39:31.569632Z",
          "iopub.status.idle": "2022-08-26T02:40:00.603846Z",
          "shell.execute_reply": "2022-08-26T02:40:00.602643Z"
        },
        "papermill": {
          "duration": 29.051192,
          "end_time": "2022-08-26T02:40:00.606495",
          "exception": false,
          "start_time": "2022-08-26T02:39:31.555303",
          "status": "completed"
        },
        "tags": [],
        "id": "f5152756",
        "outputId": "fd6c78bc-d594-4c04-bf7f-a60793156843"
      },
      "outputs": [
        {
          "name": "stdout",
          "output_type": "stream",
          "text": [
            "Collecting bcbio-gff\r\n",
            "  Downloading bcbio-gff-0.6.9.tar.gz (44 kB)\r\n",
            "\u001b[2K     \u001b[90m━━━━━━━━━━━━━━━━━━━━━━━━━━━━━━━━━━━━━━━\u001b[0m \u001b[32m44.2/44.2 kB\u001b[0m \u001b[31m184.7 kB/s\u001b[0m eta \u001b[36m0:00:00\u001b[0m\r\n",
            "\u001b[?25h  Preparing metadata (setup.py) ... \u001b[?25l-\b \bdone\r\n",
            "\u001b[?25hRequirement already satisfied: six in /opt/conda/lib/python3.7/site-packages (from bcbio-gff) (1.16.0)\r\n",
            "Requirement already satisfied: biopython in /opt/conda/lib/python3.7/site-packages (from bcbio-gff) (1.79)\r\n",
            "Requirement already satisfied: numpy in /opt/conda/lib/python3.7/site-packages (from biopython->bcbio-gff) (1.21.6)\r\n",
            "Building wheels for collected packages: bcbio-gff\r\n",
            "  Building wheel for bcbio-gff (setup.py) ... \u001b[?25l-\b \b\\\b \bdone\r\n",
            "\u001b[?25h  Created wheel for bcbio-gff: filename=bcbio_gff-0.6.9-py3-none-any.whl size=15954 sha256=36292b15b015773bbf519c2fe0a7cde4e791df6963643c387d38800171888c28\r\n",
            "  Stored in directory: /root/.cache/pip/wheels/fb/fc/e0/2e7658046d32b794fdfd1e0ec266dc8bae21c1811b18951b6d\r\n",
            "Successfully built bcbio-gff\r\n",
            "Installing collected packages: bcbio-gff\r\n",
            "Successfully installed bcbio-gff-0.6.9\r\n",
            "\u001b[33mWARNING: Running pip as the 'root' user can result in broken permissions and conflicting behaviour with the system package manager. It is recommended to use a virtual environment instead: https://pip.pypa.io/warnings/venv\u001b[0m\u001b[33m\r\n",
            "\u001b[0mCollecting dna_features_viewer\r\n",
            "  Downloading dna_features_viewer-3.1.1-py3-none-any.whl (30 kB)\r\n",
            "Requirement already satisfied: matplotlib>=3 in /opt/conda/lib/python3.7/site-packages (from dna_features_viewer) (3.5.2)\r\n",
            "Requirement already satisfied: packaging in /opt/conda/lib/python3.7/site-packages (from dna_features_viewer) (21.3)\r\n",
            "Requirement already satisfied: Biopython in /opt/conda/lib/python3.7/site-packages (from dna_features_viewer) (1.79)\r\n",
            "Requirement already satisfied: fonttools>=4.22.0 in /opt/conda/lib/python3.7/site-packages (from matplotlib>=3->dna_features_viewer) (4.33.3)\r\n",
            "Requirement already satisfied: pyparsing>=2.2.1 in /opt/conda/lib/python3.7/site-packages (from matplotlib>=3->dna_features_viewer) (3.0.9)\r\n",
            "Requirement already satisfied: pillow>=6.2.0 in /opt/conda/lib/python3.7/site-packages (from matplotlib>=3->dna_features_viewer) (9.1.1)\r\n",
            "Requirement already satisfied: python-dateutil>=2.7 in /opt/conda/lib/python3.7/site-packages (from matplotlib>=3->dna_features_viewer) (2.8.2)\r\n",
            "Requirement already satisfied: cycler>=0.10 in /opt/conda/lib/python3.7/site-packages (from matplotlib>=3->dna_features_viewer) (0.11.0)\r\n",
            "Requirement already satisfied: numpy>=1.17 in /opt/conda/lib/python3.7/site-packages (from matplotlib>=3->dna_features_viewer) (1.21.6)\r\n",
            "Requirement already satisfied: kiwisolver>=1.0.1 in /opt/conda/lib/python3.7/site-packages (from matplotlib>=3->dna_features_viewer) (1.4.3)\r\n",
            "Requirement already satisfied: typing-extensions in /opt/conda/lib/python3.7/site-packages (from kiwisolver>=1.0.1->matplotlib>=3->dna_features_viewer) (4.1.1)\r\n",
            "Requirement already satisfied: six>=1.5 in /opt/conda/lib/python3.7/site-packages (from python-dateutil>=2.7->matplotlib>=3->dna_features_viewer) (1.16.0)\r\n",
            "Installing collected packages: dna_features_viewer\r\n",
            "Successfully installed dna_features_viewer-3.1.1\r\n",
            "\u001b[33mWARNING: Running pip as the 'root' user can result in broken permissions and conflicting behaviour with the system package manager. It is recommended to use a virtual environment instead: https://pip.pypa.io/warnings/venv\u001b[0m\u001b[33m\r\n",
            "\u001b[0m"
          ]
        },
        {
          "data": {
            "image/png": "[encoded data removed]",
            "text/plain": [
              "<Figure size 1224x648 with 2 Axes>"
            ]
          },
          "metadata": {
            "needs_background": "light"
          },
          "output_type": "display_data"
        }
      ],
      "source": [
        "#Install DNA_features_viewer for visuazation and bcbio-gff for parsing\n",
        "!pip install bcbio-gff\n",
        "!pip install dna_features_viewer\n",
        "\n",
        "#Import libraries\n",
        "import matplotlib.pyplot as plt\n",
        "from dna_features_viewer import BiopythonTranslator\n",
        "from Bio import SeqIO\n",
        "import numpy as np\n",
        "\n",
        "fig, (ax1, ax2) = plt.subplots(\n",
        "    2, 1, figsize=(17, 9), sharex=True, gridspec_kw={\"height_ratios\": [4, 1]}\n",
        ")\n",
        "ax1.set_title('caballo de alto rendimiento: Marcos de lectura abierto', size=22, weight='bold')\n",
        "\n",
        "# PLOT THE RECORD MAP\n",
        "record = SeqIO.read(\"../input/adn-hourse-cientificojuancuevasv/adn_hourse.fasta\", \"fasta\")\n",
        "graphic_record = BiopythonTranslator().translate_record(record)\n",
        "graphic_record.plot(ax=ax1, with_ruler=False, strand_in_label_threshold=4)\n",
        "\n",
        "# TRAZAR EL CONTENIDO DE GC LOCAL (utilizamos ventanas de 50 pb)\n",
        "gc = lambda s: 100.0 * len([c for c in s if c in \"GC\"]) / 50\n",
        "xx = np.arange(len(record.seq) - 50)\n",
        "yy = [gc(record.seq[x : x + 50]) for x in xx]\n",
        "ax2.fill_between(xx + 25, yy, alpha=0.3)\n",
        "ax2.set_ylim(bottom=0)\n",
        "ax2.set_ylabel(\"GC(%)\")\n",
        "plt.show()"
      ]
    },
    {
      "cell_type": "markdown",
      "id": "4f4b2f23",
      "metadata": {
        "papermill": {
          "duration": 0.014837,
          "end_time": "2022-08-26T02:40:00.637470",
          "exception": false,
          "start_time": "2022-08-26T02:40:00.622633",
          "status": "completed"
        },
        "tags": [],
        "id": "4f4b2f23"
      },
      "source": [
        "**kaggle moment please I go take a coofe**"
      ]
    },
    {
      "cell_type": "markdown",
      "id": "71a9aeac",
      "metadata": {
        "papermill": {
          "duration": 0.014654,
          "end_time": "2022-08-26T02:40:00.667336",
          "exception": false,
          "start_time": "2022-08-26T02:40:00.652682",
          "status": "completed"
        },
        "tags": [],
        "id": "71a9aeac"
      },
      "source": [
        "La transcripción es el primer paso en la expresión genética. Implica copiar la secuencia de ADN de un gen para hacer una molécula de ARN.\n",
        "\n",
        "Básicamente, el ARNm es una copia de nuestro ADN. Sin embargo, en el ARN, una base llamada uracilo (U) reemplaza a la timina (T) como nucleótido complementario de la adenina (esa es la única diferencia, T se reemplaza por U). Podemos transcribir nuestra secuencia de ADN con Biopython de transcribir () la función ahora vamos a trancribir el adn del caballo  arn ....fantastic"
      ]
    },
    {
      "cell_type": "markdown",
      "id": "e1520b09",
      "metadata": {
        "papermill": {
          "duration": 0.014639,
          "end_time": "2022-08-26T02:40:00.696995",
          "exception": false,
          "start_time": "2022-08-26T02:40:00.682356",
          "status": "completed"
        },
        "tags": [],
        "id": "e1520b09"
      },
      "source": []
    },
    {
      "cell_type": "code",
      "execution_count": null,
      "id": "5fbebef6",
      "metadata": {
        "execution": {
          "iopub.execute_input": "2022-08-26T02:40:00.730165Z",
          "iopub.status.busy": "2022-08-26T02:40:00.729470Z",
          "iopub.status.idle": "2022-08-26T02:40:00.734952Z",
          "shell.execute_reply": "2022-08-26T02:40:00.733739Z"
        },
        "papermill": {
          "duration": 0.025266,
          "end_time": "2022-08-26T02:40:00.737677",
          "exception": false,
          "start_time": "2022-08-26T02:40:00.712411",
          "status": "completed"
        },
        "tags": [],
        "id": "5fbebef6"
      },
      "outputs": [],
      "source": [
        "arn_h= adn_hourse.seq"
      ]
    },
    {
      "cell_type": "code",
      "execution_count": null,
      "id": "2b9bcffb",
      "metadata": {
        "execution": {
          "iopub.execute_input": "2022-08-26T02:40:00.770172Z",
          "iopub.status.busy": "2022-08-26T02:40:00.769409Z",
          "iopub.status.idle": "2022-08-26T02:40:00.774660Z",
          "shell.execute_reply": "2022-08-26T02:40:00.773856Z"
        },
        "papermill": {
          "duration": 0.023952,
          "end_time": "2022-08-26T02:40:00.776747",
          "exception": false,
          "start_time": "2022-08-26T02:40:00.752795",
          "status": "completed"
        },
        "tags": [],
        "id": "2b9bcffb"
      },
      "outputs": [],
      "source": [
        "arnm_hourse = arn_h.transcribe()"
      ]
    },
    {
      "cell_type": "code",
      "execution_count": null,
      "id": "e77a1d0f",
      "metadata": {
        "execution": {
          "iopub.execute_input": "2022-08-26T02:40:00.808942Z",
          "iopub.status.busy": "2022-08-26T02:40:00.808182Z",
          "iopub.status.idle": "2022-08-26T02:40:00.815010Z",
          "shell.execute_reply": "2022-08-26T02:40:00.814158Z"
        },
        "papermill": {
          "duration": 0.025092,
          "end_time": "2022-08-26T02:40:00.817079",
          "exception": false,
          "start_time": "2022-08-26T02:40:00.791987",
          "status": "completed"
        },
        "tags": [],
        "id": "e77a1d0f",
        "outputId": "accc5359-c719-4d14-8bde-b10130395e54"
      },
      "outputs": [
        {
          "data": {
            "text/plain": [
              "Seq('CCCCACCCCAGGAAAGUAGUGAGACCCAUGGCGAGCGCUGGGCAGGAAGGCCCU...UCA')"
            ]
          },
          "execution_count": 9,
          "metadata": {},
          "output_type": "execute_result"
        }
      ],
      "source": [
        "arnm_hourse"
      ]
    },
    {
      "cell_type": "code",
      "execution_count": null,
      "id": "aeb1270c",
      "metadata": {
        "execution": {
          "iopub.execute_input": "2022-08-26T02:40:00.858511Z",
          "iopub.status.busy": "2022-08-26T02:40:00.857919Z",
          "iopub.status.idle": "2022-08-26T02:40:00.881529Z",
          "shell.execute_reply": "2022-08-26T02:40:00.879715Z"
        },
        "papermill": {
          "duration": 0.053,
          "end_time": "2022-08-26T02:40:00.884953",
          "exception": false,
          "start_time": "2022-08-26T02:40:00.831953",
          "status": "completed"
        },
        "tags": [],
        "id": "aeb1270c",
        "outputId": "d01f6c3f-3150-4f88-8f8b-d68fbe7c5fad"
      },
      "outputs": [
        {
          "name": "stdout",
          "output_type": "stream",
          "text": [
            "{'C': 2266, 'A': 1454, 'G': 2081, 'U': 1418}\n"
          ]
        }
      ],
      "source": [
        "import pandas as pd\n",
        "\n",
        "DNA= arnm_hourse\n",
        "nucleotides={}\n",
        "for n in DNA:\n",
        "    if n in nucleotides:\n",
        "        nucleotides[n] += 1\n",
        "    else:\n",
        "        nucleotides[n] =  1\n",
        "print(nucleotides)"
      ]
    },
    {
      "cell_type": "code",
      "execution_count": null,
      "id": "9c6d0040",
      "metadata": {
        "execution": {
          "iopub.execute_input": "2022-08-26T02:40:00.919532Z",
          "iopub.status.busy": "2022-08-26T02:40:00.918220Z",
          "iopub.status.idle": "2022-08-26T02:40:00.942572Z",
          "shell.execute_reply": "2022-08-26T02:40:00.941034Z"
        },
        "papermill": {
          "duration": 0.04387,
          "end_time": "2022-08-26T02:40:00.945079",
          "exception": false,
          "start_time": "2022-08-26T02:40:00.901209",
          "status": "completed"
        },
        "tags": [],
        "id": "9c6d0040",
        "outputId": "9567a9a9-8d7b-4731-a3fd-82d2fcdec02d"
      },
      "outputs": [
        {
          "name": "stdout",
          "output_type": "stream",
          "text": [
            "{'C': 2266, 'A': 1454, 'G': 2081, 'U': 1418}\n"
          ]
        }
      ],
      "source": [
        "import pandas as pd\n",
        "\n",
        "DNA= arnm_hourse\n",
        "nucleotides={}\n",
        "for n in DNA:\n",
        "    if n in nucleotides:\n",
        "        nucleotides[n] += 1\n",
        "    else:\n",
        "        nucleotides[n] =  1\n",
        "print(nucleotides)"
      ]
    },
    {
      "cell_type": "code",
      "execution_count": null,
      "id": "344bd50d",
      "metadata": {
        "execution": {
          "iopub.execute_input": "2022-08-26T02:40:00.982877Z",
          "iopub.status.busy": "2022-08-26T02:40:00.981983Z",
          "iopub.status.idle": "2022-08-26T02:40:01.021011Z",
          "shell.execute_reply": "2022-08-26T02:40:01.020105Z"
        },
        "papermill": {
          "duration": 0.061958,
          "end_time": "2022-08-26T02:40:01.024579",
          "exception": false,
          "start_time": "2022-08-26T02:40:00.962621",
          "status": "completed"
        },
        "tags": [],
        "id": "344bd50d",
        "outputId": "2cd3b22f-9c2e-467e-c2fc-10dfa962fca6"
      },
      "outputs": [
        {
          "data": {
            "text/html": [
              "<div>\n",
              "<style scoped>\n",
              "    .dataframe tbody tr th:only-of-type {\n",
              "        vertical-align: middle;\n",
              "    }\n",
              "\n",
              "    .dataframe tbody tr th {\n",
              "        vertical-align: top;\n",
              "    }\n",
              "\n",
              "    .dataframe thead th {\n",
              "        text-align: right;\n",
              "    }\n",
              "</style>\n",
              "<table border=\"1\" class=\"dataframe\">\n",
              "  <thead>\n",
              "    <tr style=\"text-align: right;\">\n",
              "      <th></th>\n",
              "      <th>nucleotides</th>\n",
              "      <th>frequency</th>\n",
              "    </tr>\n",
              "  </thead>\n",
              "  <tbody>\n",
              "    <tr>\n",
              "      <th>3</th>\n",
              "      <td>U</td>\n",
              "      <td>1418</td>\n",
              "    </tr>\n",
              "    <tr>\n",
              "      <th>1</th>\n",
              "      <td>A</td>\n",
              "      <td>1454</td>\n",
              "    </tr>\n",
              "    <tr>\n",
              "      <th>2</th>\n",
              "      <td>G</td>\n",
              "      <td>2081</td>\n",
              "    </tr>\n",
              "    <tr>\n",
              "      <th>0</th>\n",
              "      <td>C</td>\n",
              "      <td>2266</td>\n",
              "    </tr>\n",
              "  </tbody>\n",
              "</table>\n",
              "</div>"
            ],
            "text/plain": [
              "  nucleotides  frequency\n",
              "3           U       1418\n",
              "1           A       1454\n",
              "2           G       2081\n",
              "0           C       2266"
            ]
          },
          "execution_count": 12,
          "metadata": {},
          "output_type": "execute_result"
        }
      ],
      "source": [
        "#crando un dataframe molecular\n",
        "nts= pd.DataFrame(data=nucleotides, index=[0]).T.reset_index()\n",
        "nts= nts.rename(columns={0: 'frequency', 'index': 'nucleotides'})\n",
        "nts=nts.sort_values(by=['frequency'], ascending=True)\n",
        "nts"
      ]
    },
    {
      "cell_type": "code",
      "execution_count": null,
      "id": "b93758bb",
      "metadata": {
        "execution": {
          "iopub.execute_input": "2022-08-26T02:40:01.067898Z",
          "iopub.status.busy": "2022-08-26T02:40:01.067192Z",
          "iopub.status.idle": "2022-08-26T02:40:01.077462Z",
          "shell.execute_reply": "2022-08-26T02:40:01.076164Z"
        },
        "papermill": {
          "duration": 0.031124,
          "end_time": "2022-08-26T02:40:01.080322",
          "exception": false,
          "start_time": "2022-08-26T02:40:01.049198",
          "status": "completed"
        },
        "tags": [],
        "id": "b93758bb",
        "outputId": "0afb54f9-3304-4fe4-e760-c2fa8c600e9b"
      },
      "outputs": [
        {
          "name": "stderr",
          "output_type": "stream",
          "text": [
            "/opt/conda/lib/python3.7/site-packages/Bio/Seq.py:2983: BiopythonWarning: Partial codon, len(sequence) not a multiple of three. Explicitly trim the sequence or add trailing N before translation. This may become an error in future.\n",
            "  BiopythonWarning,\n"
          ]
        }
      ],
      "source": [
        "#Traducir la secuencia de ARNm a una cadena de aminoácidos\n",
        "hourse_aminoacidos_cadena = arnm_hourse.translate()\n"
      ]
    },
    {
      "cell_type": "code",
      "execution_count": null,
      "id": "a7dc5834",
      "metadata": {
        "execution": {
          "iopub.execute_input": "2022-08-26T02:40:01.114840Z",
          "iopub.status.busy": "2022-08-26T02:40:01.114443Z",
          "iopub.status.idle": "2022-08-26T02:40:01.121474Z",
          "shell.execute_reply": "2022-08-26T02:40:01.120359Z"
        },
        "papermill": {
          "duration": 0.026951,
          "end_time": "2022-08-26T02:40:01.123792",
          "exception": false,
          "start_time": "2022-08-26T02:40:01.096841",
          "status": "completed"
        },
        "tags": [],
        "id": "a7dc5834",
        "outputId": "b7c2e004-d929-4078-ae92-d697bb3ea50b"
      },
      "outputs": [
        {
          "data": {
            "text/plain": [
              "Seq('PHPRKVVRPMASAGQEGPAVGCTLAMEP*PQPWLPQLVKVDRKSGCASS*KVVL...PCL')"
            ]
          },
          "execution_count": 14,
          "metadata": {},
          "output_type": "execute_result"
        }
      ],
      "source": [
        "hourse_aminoacidos_cadena "
      ]
    },
    {
      "cell_type": "markdown",
      "id": "c4a6fa17",
      "metadata": {
        "papermill": {
          "duration": 0.015628,
          "end_time": "2022-08-26T02:40:01.155509",
          "exception": false,
          "start_time": "2022-08-26T02:40:01.139881",
          "status": "completed"
        },
        "tags": [],
        "id": "c4a6fa17"
      },
      "source": [
        "terminamos la primera parte del analisis de adn del caballo para la toma de desiciones"
      ]
    },
    {
      "cell_type": "markdown",
      "id": "ad5775d8",
      "metadata": {
        "papermill": {
          "duration": 0.015608,
          "end_time": "2022-08-26T02:40:01.186981",
          "exception": false,
          "start_time": "2022-08-26T02:40:01.171373",
          "status": "completed"
        },
        "tags": [],
        "id": "ad5775d8"
      },
      "source": [
        "> **CABALLO DESPUES DE UNA COMPETICION**"
      ]
    },
    {
      "cell_type": "code",
      "execution_count": null,
      "id": "c2095f45",
      "metadata": {
        "execution": {
          "iopub.execute_input": "2022-08-26T02:40:01.228509Z",
          "iopub.status.busy": "2022-08-26T02:40:01.227844Z",
          "iopub.status.idle": "2022-08-26T02:40:01.237980Z",
          "shell.execute_reply": "2022-08-26T02:40:01.236641Z"
        },
        "papermill": {
          "duration": 0.037461,
          "end_time": "2022-08-26T02:40:01.240562",
          "exception": false,
          "start_time": "2022-08-26T02:40:01.203101",
          "status": "completed"
        },
        "tags": [],
        "id": "c2095f45"
      },
      "outputs": [],
      "source": [
        "adn_hourse_COMPT = SeqIO.read(\"../input/horse-after-of-competition-adn/adn_hourse_after_of_competition.fasta\",\"fasta\")"
      ]
    },
    {
      "cell_type": "code",
      "execution_count": null,
      "id": "4ce189d3",
      "metadata": {
        "execution": {
          "iopub.execute_input": "2022-08-26T02:40:01.278308Z",
          "iopub.status.busy": "2022-08-26T02:40:01.277617Z",
          "iopub.status.idle": "2022-08-26T02:40:01.283763Z",
          "shell.execute_reply": "2022-08-26T02:40:01.282796Z"
        },
        "papermill": {
          "duration": 0.027121,
          "end_time": "2022-08-26T02:40:01.286892",
          "exception": false,
          "start_time": "2022-08-26T02:40:01.259771",
          "status": "completed"
        },
        "tags": [],
        "id": "4ce189d3",
        "outputId": "92b1c605-adf3-4b8e-87f2-4d423e64815c"
      },
      "outputs": [
        {
          "data": {
            "text/plain": [
              "SeqRecord(seq=Seq('CCCCACCCCAGGAAAGTAGTGAGACCCATGGCGAGCGCTGGGCAGGAAGGCCCT...ATA'), id='NC_009147.3:102768699-102775917', name='NC_009147.3:102768699-102775917', description='NC_009147.3:102768699-102775917 ASIC3 [organism=Equus caballus] [GeneID=100063408] [chromosome=4]', dbxrefs=[])"
            ]
          },
          "execution_count": 16,
          "metadata": {},
          "output_type": "execute_result"
        }
      ],
      "source": [
        "adn_hourse_COMPT"
      ]
    },
    {
      "cell_type": "code",
      "execution_count": null,
      "id": "1922920a",
      "metadata": {
        "execution": {
          "iopub.execute_input": "2022-08-26T02:40:01.329299Z",
          "iopub.status.busy": "2022-08-26T02:40:01.328920Z",
          "iopub.status.idle": "2022-08-26T02:40:23.266392Z",
          "shell.execute_reply": "2022-08-26T02:40:23.265148Z"
        },
        "papermill": {
          "duration": 21.958181,
          "end_time": "2022-08-26T02:40:23.268836",
          "exception": false,
          "start_time": "2022-08-26T02:40:01.310655",
          "status": "completed"
        },
        "tags": [],
        "id": "1922920a",
        "outputId": "2e994676-a455-40f0-b976-f122027460b0"
      },
      "outputs": [
        {
          "name": "stdout",
          "output_type": "stream",
          "text": [
            "Requirement already satisfied: bcbio-gff in /opt/conda/lib/python3.7/site-packages (0.6.9)\r\n",
            "Requirement already satisfied: six in /opt/conda/lib/python3.7/site-packages (from bcbio-gff) (1.16.0)\r\n",
            "Requirement already satisfied: biopython in /opt/conda/lib/python3.7/site-packages (from bcbio-gff) (1.79)\r\n",
            "Requirement already satisfied: numpy in /opt/conda/lib/python3.7/site-packages (from biopython->bcbio-gff) (1.21.6)\r\n",
            "\u001b[33mWARNING: Running pip as the 'root' user can result in broken permissions and conflicting behaviour with the system package manager. It is recommended to use a virtual environment instead: https://pip.pypa.io/warnings/venv\u001b[0m\u001b[33m\r\n",
            "\u001b[0mRequirement already satisfied: dna_features_viewer in /opt/conda/lib/python3.7/site-packages (3.1.1)\r\n",
            "Requirement already satisfied: Biopython in /opt/conda/lib/python3.7/site-packages (from dna_features_viewer) (1.79)\r\n",
            "Requirement already satisfied: packaging in /opt/conda/lib/python3.7/site-packages (from dna_features_viewer) (21.3)\r\n",
            "Requirement already satisfied: matplotlib>=3 in /opt/conda/lib/python3.7/site-packages (from dna_features_viewer) (3.5.2)\r\n",
            "Requirement already satisfied: pyparsing>=2.2.1 in /opt/conda/lib/python3.7/site-packages (from matplotlib>=3->dna_features_viewer) (3.0.9)\r\n",
            "Requirement already satisfied: fonttools>=4.22.0 in /opt/conda/lib/python3.7/site-packages (from matplotlib>=3->dna_features_viewer) (4.33.3)\r\n",
            "Requirement already satisfied: pillow>=6.2.0 in /opt/conda/lib/python3.7/site-packages (from matplotlib>=3->dna_features_viewer) (9.1.1)\r\n",
            "Requirement already satisfied: numpy>=1.17 in /opt/conda/lib/python3.7/site-packages (from matplotlib>=3->dna_features_viewer) (1.21.6)\r\n",
            "Requirement already satisfied: cycler>=0.10 in /opt/conda/lib/python3.7/site-packages (from matplotlib>=3->dna_features_viewer) (0.11.0)\r\n",
            "Requirement already satisfied: kiwisolver>=1.0.1 in /opt/conda/lib/python3.7/site-packages (from matplotlib>=3->dna_features_viewer) (1.4.3)\r\n",
            "Requirement already satisfied: python-dateutil>=2.7 in /opt/conda/lib/python3.7/site-packages (from matplotlib>=3->dna_features_viewer) (2.8.2)\r\n",
            "Requirement already satisfied: typing-extensions in /opt/conda/lib/python3.7/site-packages (from kiwisolver>=1.0.1->matplotlib>=3->dna_features_viewer) (4.1.1)\r\n",
            "Requirement already satisfied: six>=1.5 in /opt/conda/lib/python3.7/site-packages (from python-dateutil>=2.7->matplotlib>=3->dna_features_viewer) (1.16.0)\r\n",
            "\u001b[33mWARNING: Running pip as the 'root' user can result in broken permissions and conflicting behaviour with the system package manager. It is recommended to use a virtual environment instead: https://pip.pypa.io/warnings/venv\u001b[0m\u001b[33m\r\n",
            "\u001b[0m"
          ]
        },
        {
          "data": {
            "image/png": "[encoded data removed]",
            "text/plain": [
              "<Figure size 1224x648 with 2 Axes>"
            ]
          },
          "metadata": {
            "needs_background": "light"
          },
          "output_type": "display_data"
        }
      ],
      "source": [
        "#Install DNA_features_viewer for visuazation and bcbio-gff for parsing\n",
        "!pip install bcbio-gff\n",
        "!pip install dna_features_viewer\n",
        "\n",
        "#Import libraries\n",
        "import matplotlib.pyplot as plt\n",
        "from dna_features_viewer import BiopythonTranslator\n",
        "from Bio import SeqIO\n",
        "import numpy as np\n",
        "\n",
        "fig, (ax1, ax2) = plt.subplots(\n",
        "    2, 1, figsize=(17, 9), sharex=True, gridspec_kw={\"height_ratios\": [4, 1]}\n",
        ")\n",
        "ax1.set_title('caballo de alto rendimiento: Marcos de lectura abierto despues de la competicion', size=22, weight='bold')\n",
        "\n",
        "# PLOT THE RECORD MAP\n",
        "record = SeqIO.read(\"../input/horse-after-of-competition-adn/adn_hourse_after_of_competition.fasta\", \"fasta\")\n",
        "graphic_record = BiopythonTranslator().translate_record(record)\n",
        "graphic_record.plot(ax=ax1, with_ruler=False, strand_in_label_threshold=4)\n",
        "\n",
        "# TRAZAR EL CONTENIDO DE GC LOCAL (utilizamos ventanas de 50 pb)\n",
        "gc = lambda s: 100.0 * len([c for c in s if c in \"GC\"]) / 50\n",
        "xx = np.arange(len(record.seq) - 50)\n",
        "yy = [gc(record.seq[x : x + 50]) for x in xx]\n",
        "ax2.fill_between(xx + 25, yy, alpha=0.3)\n",
        "ax2.set_ylim(bottom=0)\n",
        "ax2.set_ylabel(\"GC(%)\")\n",
        "plt.show()"
      ]
    },
    {
      "cell_type": "code",
      "execution_count": null,
      "id": "14ac678c",
      "metadata": {
        "execution": {
          "iopub.execute_input": "2022-08-26T02:40:23.305829Z",
          "iopub.status.busy": "2022-08-26T02:40:23.305411Z",
          "iopub.status.idle": "2022-08-26T02:40:23.312539Z",
          "shell.execute_reply": "2022-08-26T02:40:23.311486Z"
        },
        "papermill": {
          "duration": 0.028597,
          "end_time": "2022-08-26T02:40:23.314984",
          "exception": false,
          "start_time": "2022-08-26T02:40:23.286387",
          "status": "completed"
        },
        "tags": [],
        "id": "14ac678c",
        "outputId": "1ad9dd97-1892-4e27-dd8c-ca01a12b080b"
      },
      "outputs": [
        {
          "data": {
            "text/plain": [
              "Seq('CCCCACCCCAGGAAAGUAGUGAGACCCAUGGCGAGCGCUGGGCAGGAAGGCCCU...AUA')"
            ]
          },
          "execution_count": 18,
          "metadata": {},
          "output_type": "execute_result"
        }
      ],
      "source": [
        "arn_C= adn_hourse_COMPT.seq\n",
        "arnm_hourse_COMPT = arn_C.transcribe()\n",
        "arnm_hourse_COMPT\n"
      ]
    },
    {
      "cell_type": "code",
      "execution_count": null,
      "id": "6af1521a",
      "metadata": {
        "execution": {
          "iopub.execute_input": "2022-08-26T02:40:23.351328Z",
          "iopub.status.busy": "2022-08-26T02:40:23.350576Z",
          "iopub.status.idle": "2022-08-26T02:40:23.363696Z",
          "shell.execute_reply": "2022-08-26T02:40:23.362339Z"
        },
        "papermill": {
          "duration": 0.033579,
          "end_time": "2022-08-26T02:40:23.366239",
          "exception": false,
          "start_time": "2022-08-26T02:40:23.332660",
          "status": "completed"
        },
        "tags": [],
        "id": "6af1521a",
        "outputId": "3d07ae84-d9a2-4949-8a5f-3a550298ebe1"
      },
      "outputs": [
        {
          "name": "stdout",
          "output_type": "stream",
          "text": [
            "{'C': 1942, 'A': 2819, 'G': 2160, 'U': 2739}\n"
          ]
        }
      ],
      "source": [
        "import pandas as pd\n",
        "\n",
        "DNA= arnm_hourse_COMPT\n",
        "nucleotides={}\n",
        "for n in DNA:\n",
        "    if n in nucleotides:\n",
        "        nucleotides[n] += 1\n",
        "    else:\n",
        "        nucleotides[n] =  1\n",
        "print(nucleotides)"
      ]
    },
    {
      "cell_type": "code",
      "execution_count": null,
      "id": "151e508d",
      "metadata": {
        "execution": {
          "iopub.execute_input": "2022-08-26T02:40:23.403379Z",
          "iopub.status.busy": "2022-08-26T02:40:23.402947Z",
          "iopub.status.idle": "2022-08-26T02:40:23.418455Z",
          "shell.execute_reply": "2022-08-26T02:40:23.417380Z"
        },
        "papermill": {
          "duration": 0.036921,
          "end_time": "2022-08-26T02:40:23.420700",
          "exception": false,
          "start_time": "2022-08-26T02:40:23.383779",
          "status": "completed"
        },
        "tags": [],
        "id": "151e508d",
        "outputId": "098473b3-e92f-476f-ef29-3536499aa3a6"
      },
      "outputs": [
        {
          "data": {
            "text/html": [
              "<div>\n",
              "<style scoped>\n",
              "    .dataframe tbody tr th:only-of-type {\n",
              "        vertical-align: middle;\n",
              "    }\n",
              "\n",
              "    .dataframe tbody tr th {\n",
              "        vertical-align: top;\n",
              "    }\n",
              "\n",
              "    .dataframe thead th {\n",
              "        text-align: right;\n",
              "    }\n",
              "</style>\n",
              "<table border=\"1\" class=\"dataframe\">\n",
              "  <thead>\n",
              "    <tr style=\"text-align: right;\">\n",
              "      <th></th>\n",
              "      <th>nucleotides</th>\n",
              "      <th>frequency</th>\n",
              "    </tr>\n",
              "  </thead>\n",
              "  <tbody>\n",
              "    <tr>\n",
              "      <th>0</th>\n",
              "      <td>C</td>\n",
              "      <td>1942</td>\n",
              "    </tr>\n",
              "    <tr>\n",
              "      <th>2</th>\n",
              "      <td>G</td>\n",
              "      <td>2160</td>\n",
              "    </tr>\n",
              "    <tr>\n",
              "      <th>3</th>\n",
              "      <td>U</td>\n",
              "      <td>2739</td>\n",
              "    </tr>\n",
              "    <tr>\n",
              "      <th>1</th>\n",
              "      <td>A</td>\n",
              "      <td>2819</td>\n",
              "    </tr>\n",
              "  </tbody>\n",
              "</table>\n",
              "</div>"
            ],
            "text/plain": [
              "  nucleotides  frequency\n",
              "0           C       1942\n",
              "2           G       2160\n",
              "3           U       2739\n",
              "1           A       2819"
            ]
          },
          "execution_count": 20,
          "metadata": {},
          "output_type": "execute_result"
        }
      ],
      "source": [
        "#crando un dataframe molecular\n",
        "nts= pd.DataFrame(data=nucleotides, index=[0]).T.reset_index()\n",
        "nts= nts.rename(columns={0: 'frequency', 'index': 'nucleotides'})\n",
        "nts=nts.sort_values(by=['frequency'], ascending=True)\n",
        "nts"
      ]
    },
    {
      "cell_type": "markdown",
      "id": "e1c8547c",
      "metadata": {
        "papermill": {
          "duration": 0.016907,
          "end_time": "2022-08-26T02:40:23.455126",
          "exception": false,
          "start_time": "2022-08-26T02:40:23.438219",
          "status": "completed"
        },
        "tags": [],
        "id": "e1c8547c"
      },
      "source": [
        "RESUMEN\n",
        "\n",
        "El lactato se considera un metabolito de desecho que se produce durante la fatiga muscular. En contraste con esta visión simplista, en este trabajo se proporcionan evidencias de las múltiples y complejas funciones de este metabolito. Se muestra que: 1) el lactato es el producto final de la glucólisis, independientemente de la concentración de oxígeno en el medio en el que se encuentren las células; 2) el lactato forma parte de 2 tipos de lanzadera, una que funciona en el espacio intermembranal de la mitocondria, y otra intercelular, que se encarga de alimentar con lactato a ciertos tipos celulares, como las neuronas o el músculo cardiaco; 3) en los espermatozoides, el lactato se transporta directamente a la matriz mitocondrial y allí se oxida para producir piruvato y NADH; 4) en el hígado, el lactato participa en la oxidación del etanol a través de la generación de peróxido de hidrógeno; 5) que dependiendo de la estirpe celular, el lactato puede funcionar como agente antiinflamatorio (endocrino) o regulador de la expresión génica.\n",
        "\n",
        "Palabras clave: Fermentación láctica; hipoxia; fatiga muscular; regulador génico\n",
        "\n"
      ]
    },
    {
      "cell_type": "markdown",
      "id": "cf31abf3",
      "metadata": {
        "papermill": {
          "duration": 0.016768,
          "end_time": "2022-08-26T02:40:23.489043",
          "exception": false,
          "start_time": "2022-08-26T02:40:23.472275",
          "status": "completed"
        },
        "tags": [],
        "id": "cf31abf3"
      },
      "source": [
        "GAU = ASP\n",
        "GAC = ASP\n",
        "\n",
        "EN el siguente analisis podemos ver como los niveles de urasilo,adenina y guanina son mayores en el caballo depues de la competicion.esto conlleva a una mayor cantidad de aspartato en la musculatura del caballo lo que  conlleva en una fatiga muscular y por lo mismo a una poca contraccion muscular y bajo rendimiento en los ultimos metros de la competicion del caballo.\n",
        "\n",
        "El ácido aspártico o su forma ionizada, el aspartato (símbolos Asp y D) es uno de los veinte aminoácidos con los que las células forman las proteínas. En el ARN se encuentra codificado por los codones GAU o GAC. Presenta un grupo carboxilo (-COOH) en el extremo de la cadena lateral. Su fórmula química es HO\n",
        "2CCH(NH\n",
        "2)CH\n",
        "2CO\n",
        "2H.\n",
        "\n",
        "A pH fisiológico, tiene una carga negativa (es ácido); pertenece al grupo de aminoácidos con cadenas laterales polares cargadas. No es un aminoácido esencial ya que puede ser sintetizado por el organismo humano. Su biosíntesis tiene lugar por transaminación del ácido oxalacético, un metabolito intermediario del ciclo de Krebs.\n",
        "https://es.wikipedia.org/wiki/%C3%81cido_asp%C3%A1rtico\n"
      ]
    },
    {
      "cell_type": "markdown",
      "id": "67411b59",
      "metadata": {
        "papermill": {
          "duration": 0.017389,
          "end_time": "2022-08-26T02:40:23.524207",
          "exception": false,
          "start_time": "2022-08-26T02:40:23.506818",
          "status": "completed"
        },
        "tags": [],
        "id": "67411b59"
      },
      "source": [
        "SOLUCION"
      ]
    },
    {
      "cell_type": "markdown",
      "id": "377538df",
      "metadata": {
        "papermill": {
          "duration": 0.017278,
          "end_time": "2022-08-26T02:40:23.558882",
          "exception": false,
          "start_time": "2022-08-26T02:40:23.541604",
          "status": "completed"
        },
        "tags": [],
        "id": "377538df"
      },
      "source": [
        "Es cierto que la fatiga y el agotamiento durante, o después del ejercicio, pueden producirse por múltiples factores, pero uno de los más populares es el famoso ácido láctico.\n",
        "\n",
        "Por eso, hoy queremos contarte qué es, cómo funciona y cómo puedes reducirlo para mejorar tu rendimiento deportivo y no sentirte tan fatigado en cada entrenamiento.\n",
        "\n",
        "Qué es el ácido láctico\n",
        "También conocido como lactato (erróneamente) o hidroxipropanoico, el ácido láctico es una molécula que surge a partir de la utilización de la glucosa como energía cuando no hay oxígeno, es decir, en ejercicios de alta intensidad y duración media.\n",
        "\n",
        "Lo que sucede es que el organismo utiliza glucosa como combustible y la degrada hasta ácido láctico, compuesto que de no ser usado o eliminado, puede producir fatiga e influir negativamente en el rendimiento\n",
        "\n",
        "Hay que decir que el ácido láctico se produce de forma natural en los músculos durante los esfuerzos y a través del piruvato catalizado por la enzima “lactato” deshidrogenasa (fermentación del ácido láctico)\n",
        "\n",
        "Por tanto, podemos decir que el ácido láctico, cuya fórmula química es C3H6O3, tiene un papel fundamental en el metabolismo anaeróbico y que si piensas realizar pesas con grandes cargas o carreras a gran velocidad puedes verte afectado negativamente.\n",
        "\n",
        "Y es que, cuando se genera mucho ácido láctico, las enzimas anaeróbicas se ven influenciadas negativamente dado que dejan de producir energía para proveer a los músculos. Además, el exceso de ácido láctico afecta al calcio presente en los músculos, por lo que la capacidad de contracción de estos también se ve limitada.\n",
        "\n",
        "Para que se entienda mejor diremos que cuando hay exceso de ácido láctico en el cuerpo no existe energía ni capacidad de contracción muscular, por lo que termina apareciendo lo que llamamos fatiga.\n",
        "\n",
        "Por todo esto, resulta necesario conocer cuál es tu umbral de ácido láctico y entrenar para reducirlo o controlarlo.\n",
        "\n",
        "Ademas es aconsejable que el entrenamiento del caballo de alto rendimiento, se acostumbre al lactato atrvez de ejercicios anaerobicos osea carreras cortas en tiempo pero en alta velocidad para que la musculatura se acostumbre al lactato..y asi evitar lesiones y mejorar la velocidad en las carreras..\n",
        "Analisis creado por juan cuevas vasquez chile 2022"
      ]
    }
  ],
  "metadata": {
    "kernelspec": {
      "display_name": "Python 3",
      "language": "python",
      "name": "python3"
    },
    "language_info": {
      "codemirror_mode": {
        "name": "ipython",
        "version": 3
      },
      "file_extension": ".py",
      "mimetype": "text/x-python",
      "name": "python",
      "nbconvert_exporter": "python",
      "pygments_lexer": "ipython3",
      "version": "3.7.12"
    },
    "papermill": {
      "default_parameters": {},
      "duration": 76.83281,
      "end_time": "2022-08-26T02:40:24.399367",
      "environment_variables": {},
      "exception": null,
      "input_path": "__notebook__.ipynb",
      "output_path": "__notebook__.ipynb",
      "parameters": {},
      "start_time": "2022-08-26T02:39:07.566557",
      "version": "2.3.4"
    },
    "colab": {
      "provenance": [],
      "include_colab_link": true
    }
  },
  "nbformat": 4,
  "nbformat_minor": 5
}